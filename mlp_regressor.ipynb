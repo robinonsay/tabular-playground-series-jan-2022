{
 "cells": [
  {
   "cell_type": "markdown",
   "metadata": {
    "pycharm": {
     "name": "#%% md\n"
    }
   },
   "source": [
    "# Tabular Playground Series (January 2022)\n",
    "## Import Data and Gather Insights"
   ]
  },
  {
   "cell_type": "code",
   "execution_count": 51,
   "metadata": {
    "pycharm": {
     "name": "#%%\n"
    }
   },
   "outputs": [
    {
     "data": {
      "text/plain": "             date  country       store         product  num_sold\nrow_id                                                          \n0      2015-01-01  Finland  KaggleMart      Kaggle Mug       329\n1      2015-01-01  Finland  KaggleMart      Kaggle Hat       520\n2      2015-01-01  Finland  KaggleMart  Kaggle Sticker       146\n3      2015-01-01  Finland  KaggleRama      Kaggle Mug       572\n4      2015-01-01  Finland  KaggleRama      Kaggle Hat       911\n...           ...      ...         ...             ...       ...\n26293  2018-12-31   Sweden  KaggleMart      Kaggle Hat       823\n26294  2018-12-31   Sweden  KaggleMart  Kaggle Sticker       250\n26295  2018-12-31   Sweden  KaggleRama      Kaggle Mug      1004\n26296  2018-12-31   Sweden  KaggleRama      Kaggle Hat      1441\n26297  2018-12-31   Sweden  KaggleRama  Kaggle Sticker       388\n\n[26298 rows x 5 columns]",
      "text/html": "<div>\n<style scoped>\n    .dataframe tbody tr th:only-of-type {\n        vertical-align: middle;\n    }\n\n    .dataframe tbody tr th {\n        vertical-align: top;\n    }\n\n    .dataframe thead th {\n        text-align: right;\n    }\n</style>\n<table border=\"1\" class=\"dataframe\">\n  <thead>\n    <tr style=\"text-align: right;\">\n      <th></th>\n      <th>date</th>\n      <th>country</th>\n      <th>store</th>\n      <th>product</th>\n      <th>num_sold</th>\n    </tr>\n    <tr>\n      <th>row_id</th>\n      <th></th>\n      <th></th>\n      <th></th>\n      <th></th>\n      <th></th>\n    </tr>\n  </thead>\n  <tbody>\n    <tr>\n      <th>0</th>\n      <td>2015-01-01</td>\n      <td>Finland</td>\n      <td>KaggleMart</td>\n      <td>Kaggle Mug</td>\n      <td>329</td>\n    </tr>\n    <tr>\n      <th>1</th>\n      <td>2015-01-01</td>\n      <td>Finland</td>\n      <td>KaggleMart</td>\n      <td>Kaggle Hat</td>\n      <td>520</td>\n    </tr>\n    <tr>\n      <th>2</th>\n      <td>2015-01-01</td>\n      <td>Finland</td>\n      <td>KaggleMart</td>\n      <td>Kaggle Sticker</td>\n      <td>146</td>\n    </tr>\n    <tr>\n      <th>3</th>\n      <td>2015-01-01</td>\n      <td>Finland</td>\n      <td>KaggleRama</td>\n      <td>Kaggle Mug</td>\n      <td>572</td>\n    </tr>\n    <tr>\n      <th>4</th>\n      <td>2015-01-01</td>\n      <td>Finland</td>\n      <td>KaggleRama</td>\n      <td>Kaggle Hat</td>\n      <td>911</td>\n    </tr>\n    <tr>\n      <th>...</th>\n      <td>...</td>\n      <td>...</td>\n      <td>...</td>\n      <td>...</td>\n      <td>...</td>\n    </tr>\n    <tr>\n      <th>26293</th>\n      <td>2018-12-31</td>\n      <td>Sweden</td>\n      <td>KaggleMart</td>\n      <td>Kaggle Hat</td>\n      <td>823</td>\n    </tr>\n    <tr>\n      <th>26294</th>\n      <td>2018-12-31</td>\n      <td>Sweden</td>\n      <td>KaggleMart</td>\n      <td>Kaggle Sticker</td>\n      <td>250</td>\n    </tr>\n    <tr>\n      <th>26295</th>\n      <td>2018-12-31</td>\n      <td>Sweden</td>\n      <td>KaggleRama</td>\n      <td>Kaggle Mug</td>\n      <td>1004</td>\n    </tr>\n    <tr>\n      <th>26296</th>\n      <td>2018-12-31</td>\n      <td>Sweden</td>\n      <td>KaggleRama</td>\n      <td>Kaggle Hat</td>\n      <td>1441</td>\n    </tr>\n    <tr>\n      <th>26297</th>\n      <td>2018-12-31</td>\n      <td>Sweden</td>\n      <td>KaggleRama</td>\n      <td>Kaggle Sticker</td>\n      <td>388</td>\n    </tr>\n  </tbody>\n</table>\n<p>26298 rows × 5 columns</p>\n</div>"
     },
     "metadata": {},
     "output_type": "display_data"
    }
   ],
   "source": [
    "from typing import Dict, Tuple\n",
    "import numpy as np\n",
    "import pandas as pd\n",
    "from IPython.display import display\n",
    "from sklearn.neural_network import MLPRegressor\n",
    "\n",
    "training_df = pd.read_csv(\"data/train.csv\", index_col='row_id')\n",
    "training_df['date'] = pd.to_datetime(training_df['date'], format='%Y-%m-%d')\n",
    "display(training_df)"
   ]
  },
  {
   "cell_type": "markdown",
   "source": [
    "## Format Data"
   ],
   "metadata": {
    "collapsed": false,
    "pycharm": {
     "name": "#%% md\n"
    }
   }
  },
  {
   "cell_type": "code",
   "execution_count": 52,
   "outputs": [],
   "source": [
    "training_df['date'] = training_df['date'].dt.dayofyear / 365\n",
    "countries = training_df.drop_duplicates(subset='country')['country']\n",
    "stores = training_df.drop_duplicates(subset='store')['store']\n",
    "products = training_df.drop_duplicates(subset='product')['product']"
   ],
   "metadata": {
    "collapsed": false,
    "pycharm": {
     "name": "#%%\n"
    }
   }
  },
  {
   "cell_type": "code",
   "execution_count": 53,
   "metadata": {
    "pycharm": {
     "name": "#%%\n"
    }
   },
   "outputs": [],
   "source": [
    "def hash_str(series: pd.Series) -> Tuple[Dict, Dict]:\n",
    "    i = 0\n",
    "    _map = {}\n",
    "    reverse_map = {}\n",
    "    step = 1 / len(series)\n",
    "    for item in series:\n",
    "        _map[item] = i\n",
    "        reverse_map[i] = item\n",
    "        i += step\n",
    "    return _map, reverse_map"
   ]
  },
  {
   "cell_type": "code",
   "execution_count": 54,
   "metadata": {
    "pycharm": {
     "name": "#%%\n"
    }
   },
   "outputs": [
    {
     "data": {
      "text/plain": "           date   country  store   product  num_sold\nrow_id                                              \n0       0.00274  0.000000    0.0  0.000000       329\n1       0.00274  0.000000    0.0  0.333333       520\n2       0.00274  0.000000    0.0  0.666667       146\n3       0.00274  0.000000    0.5  0.000000       572\n4       0.00274  0.000000    0.5  0.333333       911\n...         ...       ...    ...       ...       ...\n26293   1.00000  0.666667    0.0  0.333333       823\n26294   1.00000  0.666667    0.0  0.666667       250\n26295   1.00000  0.666667    0.5  0.000000      1004\n26296   1.00000  0.666667    0.5  0.333333      1441\n26297   1.00000  0.666667    0.5  0.666667       388\n\n[26298 rows x 5 columns]",
      "text/html": "<div>\n<style scoped>\n    .dataframe tbody tr th:only-of-type {\n        vertical-align: middle;\n    }\n\n    .dataframe tbody tr th {\n        vertical-align: top;\n    }\n\n    .dataframe thead th {\n        text-align: right;\n    }\n</style>\n<table border=\"1\" class=\"dataframe\">\n  <thead>\n    <tr style=\"text-align: right;\">\n      <th></th>\n      <th>date</th>\n      <th>country</th>\n      <th>store</th>\n      <th>product</th>\n      <th>num_sold</th>\n    </tr>\n    <tr>\n      <th>row_id</th>\n      <th></th>\n      <th></th>\n      <th></th>\n      <th></th>\n      <th></th>\n    </tr>\n  </thead>\n  <tbody>\n    <tr>\n      <th>0</th>\n      <td>0.00274</td>\n      <td>0.000000</td>\n      <td>0.0</td>\n      <td>0.000000</td>\n      <td>329</td>\n    </tr>\n    <tr>\n      <th>1</th>\n      <td>0.00274</td>\n      <td>0.000000</td>\n      <td>0.0</td>\n      <td>0.333333</td>\n      <td>520</td>\n    </tr>\n    <tr>\n      <th>2</th>\n      <td>0.00274</td>\n      <td>0.000000</td>\n      <td>0.0</td>\n      <td>0.666667</td>\n      <td>146</td>\n    </tr>\n    <tr>\n      <th>3</th>\n      <td>0.00274</td>\n      <td>0.000000</td>\n      <td>0.5</td>\n      <td>0.000000</td>\n      <td>572</td>\n    </tr>\n    <tr>\n      <th>4</th>\n      <td>0.00274</td>\n      <td>0.000000</td>\n      <td>0.5</td>\n      <td>0.333333</td>\n      <td>911</td>\n    </tr>\n    <tr>\n      <th>...</th>\n      <td>...</td>\n      <td>...</td>\n      <td>...</td>\n      <td>...</td>\n      <td>...</td>\n    </tr>\n    <tr>\n      <th>26293</th>\n      <td>1.00000</td>\n      <td>0.666667</td>\n      <td>0.0</td>\n      <td>0.333333</td>\n      <td>823</td>\n    </tr>\n    <tr>\n      <th>26294</th>\n      <td>1.00000</td>\n      <td>0.666667</td>\n      <td>0.0</td>\n      <td>0.666667</td>\n      <td>250</td>\n    </tr>\n    <tr>\n      <th>26295</th>\n      <td>1.00000</td>\n      <td>0.666667</td>\n      <td>0.5</td>\n      <td>0.000000</td>\n      <td>1004</td>\n    </tr>\n    <tr>\n      <th>26296</th>\n      <td>1.00000</td>\n      <td>0.666667</td>\n      <td>0.5</td>\n      <td>0.333333</td>\n      <td>1441</td>\n    </tr>\n    <tr>\n      <th>26297</th>\n      <td>1.00000</td>\n      <td>0.666667</td>\n      <td>0.5</td>\n      <td>0.666667</td>\n      <td>388</td>\n    </tr>\n  </tbody>\n</table>\n<p>26298 rows × 5 columns</p>\n</div>"
     },
     "metadata": {},
     "output_type": "display_data"
    }
   ],
   "source": [
    "countries_map, countries_rmap = hash_str(countries)\n",
    "stores_map, stores_rmap = hash_str(stores)\n",
    "products_map, products_rmap = hash_str(products)\n",
    "training_df['country'].replace(to_replace=countries_map, inplace=True)\n",
    "training_df['store'].replace(to_replace=stores_map, inplace=True)\n",
    "training_df['product'].replace(to_replace=products_map, inplace=True)\n",
    "display(training_df)"
   ]
  },
  {
   "cell_type": "markdown",
   "metadata": {
    "pycharm": {
     "name": "#%% md\n"
    }
   },
   "source": [
    "## Train MLP Regression Model"
   ]
  },
  {
   "cell_type": "code",
   "execution_count": 55,
   "metadata": {
    "pycharm": {
     "name": "#%%\n"
    }
   },
   "outputs": [],
   "source": [
    "training_data = training_df[['date', 'country', 'store', 'product']].to_numpy()\n",
    "target_values = training_df[['num_sold']].to_numpy().ravel()"
   ]
  },
  {
   "cell_type": "code",
   "execution_count": 56,
   "metadata": {
    "pycharm": {
     "name": "#%%\n"
    }
   },
   "outputs": [],
   "source": [
    "mlp_regressor = MLPRegressor(hidden_layer_sizes=(4, 4),\n",
    "                             activation='relu',\n",
    "                             max_iter=400)\n",
    "mlp_regressor = mlp_regressor.fit(training_data, target_values)"
   ]
  },
  {
   "cell_type": "markdown",
   "metadata": {
    "pycharm": {
     "name": "#%% md\n"
    }
   },
   "source": [
    "## Testing MLP Regressor Model"
   ]
  },
  {
   "cell_type": "code",
   "execution_count": 57,
   "metadata": {
    "pycharm": {
     "name": "#%%\n"
    }
   },
   "outputs": [
    {
     "data": {
      "text/plain": "             date  country       store         product\nrow_id                                                \n26298  2019-01-01  Finland  KaggleMart      Kaggle Mug\n26299  2019-01-01  Finland  KaggleMart      Kaggle Hat\n26300  2019-01-01  Finland  KaggleMart  Kaggle Sticker\n26301  2019-01-01  Finland  KaggleRama      Kaggle Mug\n26302  2019-01-01  Finland  KaggleRama      Kaggle Hat\n...           ...      ...         ...             ...\n32863  2019-12-31   Sweden  KaggleMart      Kaggle Hat\n32864  2019-12-31   Sweden  KaggleMart  Kaggle Sticker\n32865  2019-12-31   Sweden  KaggleRama      Kaggle Mug\n32866  2019-12-31   Sweden  KaggleRama      Kaggle Hat\n32867  2019-12-31   Sweden  KaggleRama  Kaggle Sticker\n\n[6570 rows x 4 columns]",
      "text/html": "<div>\n<style scoped>\n    .dataframe tbody tr th:only-of-type {\n        vertical-align: middle;\n    }\n\n    .dataframe tbody tr th {\n        vertical-align: top;\n    }\n\n    .dataframe thead th {\n        text-align: right;\n    }\n</style>\n<table border=\"1\" class=\"dataframe\">\n  <thead>\n    <tr style=\"text-align: right;\">\n      <th></th>\n      <th>date</th>\n      <th>country</th>\n      <th>store</th>\n      <th>product</th>\n    </tr>\n    <tr>\n      <th>row_id</th>\n      <th></th>\n      <th></th>\n      <th></th>\n      <th></th>\n    </tr>\n  </thead>\n  <tbody>\n    <tr>\n      <th>26298</th>\n      <td>2019-01-01</td>\n      <td>Finland</td>\n      <td>KaggleMart</td>\n      <td>Kaggle Mug</td>\n    </tr>\n    <tr>\n      <th>26299</th>\n      <td>2019-01-01</td>\n      <td>Finland</td>\n      <td>KaggleMart</td>\n      <td>Kaggle Hat</td>\n    </tr>\n    <tr>\n      <th>26300</th>\n      <td>2019-01-01</td>\n      <td>Finland</td>\n      <td>KaggleMart</td>\n      <td>Kaggle Sticker</td>\n    </tr>\n    <tr>\n      <th>26301</th>\n      <td>2019-01-01</td>\n      <td>Finland</td>\n      <td>KaggleRama</td>\n      <td>Kaggle Mug</td>\n    </tr>\n    <tr>\n      <th>26302</th>\n      <td>2019-01-01</td>\n      <td>Finland</td>\n      <td>KaggleRama</td>\n      <td>Kaggle Hat</td>\n    </tr>\n    <tr>\n      <th>...</th>\n      <td>...</td>\n      <td>...</td>\n      <td>...</td>\n      <td>...</td>\n    </tr>\n    <tr>\n      <th>32863</th>\n      <td>2019-12-31</td>\n      <td>Sweden</td>\n      <td>KaggleMart</td>\n      <td>Kaggle Hat</td>\n    </tr>\n    <tr>\n      <th>32864</th>\n      <td>2019-12-31</td>\n      <td>Sweden</td>\n      <td>KaggleMart</td>\n      <td>Kaggle Sticker</td>\n    </tr>\n    <tr>\n      <th>32865</th>\n      <td>2019-12-31</td>\n      <td>Sweden</td>\n      <td>KaggleRama</td>\n      <td>Kaggle Mug</td>\n    </tr>\n    <tr>\n      <th>32866</th>\n      <td>2019-12-31</td>\n      <td>Sweden</td>\n      <td>KaggleRama</td>\n      <td>Kaggle Hat</td>\n    </tr>\n    <tr>\n      <th>32867</th>\n      <td>2019-12-31</td>\n      <td>Sweden</td>\n      <td>KaggleRama</td>\n      <td>Kaggle Sticker</td>\n    </tr>\n  </tbody>\n</table>\n<p>6570 rows × 4 columns</p>\n</div>"
     },
     "metadata": {},
     "output_type": "display_data"
    }
   ],
   "source": [
    "test_df = pd.read_csv(\"data/test.csv\", index_col='row_id')\n",
    "test_df['date'] = pd.to_datetime(test_df['date'], format='%Y-%m-%d')\n",
    "display(test_df)"
   ]
  },
  {
   "cell_type": "code",
   "execution_count": 58,
   "metadata": {
    "pycharm": {
     "name": "#%%\n"
    }
   },
   "outputs": [
    {
     "data": {
      "text/plain": "           date   country  store   product\nrow_id                                    \n26298   0.00274  0.000000    0.0  0.000000\n26299   0.00274  0.000000    0.0  0.333333\n26300   0.00274  0.000000    0.0  0.666667\n26301   0.00274  0.000000    0.5  0.000000\n26302   0.00274  0.000000    0.5  0.333333\n...         ...       ...    ...       ...\n32863   1.00000  0.666667    0.0  0.333333\n32864   1.00000  0.666667    0.0  0.666667\n32865   1.00000  0.666667    0.5  0.000000\n32866   1.00000  0.666667    0.5  0.333333\n32867   1.00000  0.666667    0.5  0.666667\n\n[6570 rows x 4 columns]",
      "text/html": "<div>\n<style scoped>\n    .dataframe tbody tr th:only-of-type {\n        vertical-align: middle;\n    }\n\n    .dataframe tbody tr th {\n        vertical-align: top;\n    }\n\n    .dataframe thead th {\n        text-align: right;\n    }\n</style>\n<table border=\"1\" class=\"dataframe\">\n  <thead>\n    <tr style=\"text-align: right;\">\n      <th></th>\n      <th>date</th>\n      <th>country</th>\n      <th>store</th>\n      <th>product</th>\n    </tr>\n    <tr>\n      <th>row_id</th>\n      <th></th>\n      <th></th>\n      <th></th>\n      <th></th>\n    </tr>\n  </thead>\n  <tbody>\n    <tr>\n      <th>26298</th>\n      <td>0.00274</td>\n      <td>0.000000</td>\n      <td>0.0</td>\n      <td>0.000000</td>\n    </tr>\n    <tr>\n      <th>26299</th>\n      <td>0.00274</td>\n      <td>0.000000</td>\n      <td>0.0</td>\n      <td>0.333333</td>\n    </tr>\n    <tr>\n      <th>26300</th>\n      <td>0.00274</td>\n      <td>0.000000</td>\n      <td>0.0</td>\n      <td>0.666667</td>\n    </tr>\n    <tr>\n      <th>26301</th>\n      <td>0.00274</td>\n      <td>0.000000</td>\n      <td>0.5</td>\n      <td>0.000000</td>\n    </tr>\n    <tr>\n      <th>26302</th>\n      <td>0.00274</td>\n      <td>0.000000</td>\n      <td>0.5</td>\n      <td>0.333333</td>\n    </tr>\n    <tr>\n      <th>...</th>\n      <td>...</td>\n      <td>...</td>\n      <td>...</td>\n      <td>...</td>\n    </tr>\n    <tr>\n      <th>32863</th>\n      <td>1.00000</td>\n      <td>0.666667</td>\n      <td>0.0</td>\n      <td>0.333333</td>\n    </tr>\n    <tr>\n      <th>32864</th>\n      <td>1.00000</td>\n      <td>0.666667</td>\n      <td>0.0</td>\n      <td>0.666667</td>\n    </tr>\n    <tr>\n      <th>32865</th>\n      <td>1.00000</td>\n      <td>0.666667</td>\n      <td>0.5</td>\n      <td>0.000000</td>\n    </tr>\n    <tr>\n      <th>32866</th>\n      <td>1.00000</td>\n      <td>0.666667</td>\n      <td>0.5</td>\n      <td>0.333333</td>\n    </tr>\n    <tr>\n      <th>32867</th>\n      <td>1.00000</td>\n      <td>0.666667</td>\n      <td>0.5</td>\n      <td>0.666667</td>\n    </tr>\n  </tbody>\n</table>\n<p>6570 rows × 4 columns</p>\n</div>"
     },
     "metadata": {},
     "output_type": "display_data"
    }
   ],
   "source": [
    "test_df['date'] = test_df['date'].dt.dayofyear / 365\n",
    "test_df['country'].replace(to_replace=countries_map, inplace=True)\n",
    "test_df['store'].replace(to_replace=stores_map, inplace=True)\n",
    "test_df['product'].replace(to_replace=products_map, inplace=True)\n",
    "display(test_df)"
   ]
  },
  {
   "cell_type": "code",
   "execution_count": 59,
   "metadata": {
    "pycharm": {
     "name": "#%%\n"
    }
   },
   "outputs": [
    {
     "data": {
      "text/plain": "         date  country       store         product  num_sold\nrow_id                                                      \n26298     1.0  Finland  KaggleMart      Kaggle Mug       379\n26299     1.0  Finland  KaggleMart      Kaggle Hat       291\n26300     1.0  Finland  KaggleMart  Kaggle Sticker       204\n26301     1.0  Finland  KaggleRama      Kaggle Mug       589\n26302     1.0  Finland  KaggleRama      Kaggle Hat       502\n...       ...      ...         ...             ...       ...\n32863   365.0   Sweden  KaggleMart      Kaggle Hat       272\n32864   365.0   Sweden  KaggleMart  Kaggle Sticker       185\n32865   365.0   Sweden  KaggleRama      Kaggle Mug       570\n32866   365.0   Sweden  KaggleRama      Kaggle Hat       483\n32867   365.0   Sweden  KaggleRama  Kaggle Sticker       395\n\n[6570 rows x 5 columns]",
      "text/html": "<div>\n<style scoped>\n    .dataframe tbody tr th:only-of-type {\n        vertical-align: middle;\n    }\n\n    .dataframe tbody tr th {\n        vertical-align: top;\n    }\n\n    .dataframe thead th {\n        text-align: right;\n    }\n</style>\n<table border=\"1\" class=\"dataframe\">\n  <thead>\n    <tr style=\"text-align: right;\">\n      <th></th>\n      <th>date</th>\n      <th>country</th>\n      <th>store</th>\n      <th>product</th>\n      <th>num_sold</th>\n    </tr>\n    <tr>\n      <th>row_id</th>\n      <th></th>\n      <th></th>\n      <th></th>\n      <th></th>\n      <th></th>\n    </tr>\n  </thead>\n  <tbody>\n    <tr>\n      <th>26298</th>\n      <td>1.0</td>\n      <td>Finland</td>\n      <td>KaggleMart</td>\n      <td>Kaggle Mug</td>\n      <td>379</td>\n    </tr>\n    <tr>\n      <th>26299</th>\n      <td>1.0</td>\n      <td>Finland</td>\n      <td>KaggleMart</td>\n      <td>Kaggle Hat</td>\n      <td>291</td>\n    </tr>\n    <tr>\n      <th>26300</th>\n      <td>1.0</td>\n      <td>Finland</td>\n      <td>KaggleMart</td>\n      <td>Kaggle Sticker</td>\n      <td>204</td>\n    </tr>\n    <tr>\n      <th>26301</th>\n      <td>1.0</td>\n      <td>Finland</td>\n      <td>KaggleRama</td>\n      <td>Kaggle Mug</td>\n      <td>589</td>\n    </tr>\n    <tr>\n      <th>26302</th>\n      <td>1.0</td>\n      <td>Finland</td>\n      <td>KaggleRama</td>\n      <td>Kaggle Hat</td>\n      <td>502</td>\n    </tr>\n    <tr>\n      <th>...</th>\n      <td>...</td>\n      <td>...</td>\n      <td>...</td>\n      <td>...</td>\n      <td>...</td>\n    </tr>\n    <tr>\n      <th>32863</th>\n      <td>365.0</td>\n      <td>Sweden</td>\n      <td>KaggleMart</td>\n      <td>Kaggle Hat</td>\n      <td>272</td>\n    </tr>\n    <tr>\n      <th>32864</th>\n      <td>365.0</td>\n      <td>Sweden</td>\n      <td>KaggleMart</td>\n      <td>Kaggle Sticker</td>\n      <td>185</td>\n    </tr>\n    <tr>\n      <th>32865</th>\n      <td>365.0</td>\n      <td>Sweden</td>\n      <td>KaggleRama</td>\n      <td>Kaggle Mug</td>\n      <td>570</td>\n    </tr>\n    <tr>\n      <th>32866</th>\n      <td>365.0</td>\n      <td>Sweden</td>\n      <td>KaggleRama</td>\n      <td>Kaggle Hat</td>\n      <td>483</td>\n    </tr>\n    <tr>\n      <th>32867</th>\n      <td>365.0</td>\n      <td>Sweden</td>\n      <td>KaggleRama</td>\n      <td>Kaggle Sticker</td>\n      <td>395</td>\n    </tr>\n  </tbody>\n</table>\n<p>6570 rows × 5 columns</p>\n</div>"
     },
     "metadata": {},
     "output_type": "display_data"
    }
   ],
   "source": [
    "test_data = test_df.to_numpy()\n",
    "predictions = np.round(mlp_regressor.predict(test_data))\n",
    "test_df['num_sold'] = np.int64(predictions)\n",
    "test_df['date'] = test_df['date'] * 365\n",
    "test_df['country'].replace(to_replace=countries_rmap, inplace=True)\n",
    "test_df['store'].replace(to_replace=stores_rmap, inplace=True)\n",
    "test_df['product'].replace(to_replace=products_rmap, inplace=True)\n",
    "display(test_df)"
   ]
  },
  {
   "cell_type": "code",
   "execution_count": 60,
   "metadata": {
    "pycharm": {
     "name": "#%%\n"
    }
   },
   "outputs": [],
   "source": [
    "test_df['num_sold'].to_csv('predictions.csv')"
   ]
  }
 ],
 "metadata": {
  "kernelspec": {
   "display_name": "Python 3 (ipykernel)",
   "language": "python",
   "name": "python3"
  },
  "language_info": {
   "codemirror_mode": {
    "name": "ipython",
    "version": 3
   },
   "file_extension": ".py",
   "mimetype": "text/x-python",
   "name": "python",
   "nbconvert_exporter": "python",
   "pygments_lexer": "ipython3",
   "version": "3.10.1"
  }
 },
 "nbformat": 4,
 "nbformat_minor": 1
}