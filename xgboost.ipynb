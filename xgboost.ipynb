{
 "cells": [
  {
   "cell_type": "markdown",
   "metadata": {
    "collapsed": true,
    "pycharm": {
     "name": "#%% md\n"
    }
   },
   "source": [
    "# Random Forests Method for the January Tabular Data Challenge\n",
    "## Step 1. Building the Model"
   ]
  },
  {
   "cell_type": "code",
   "execution_count": 32,
   "outputs": [
    {
     "data": {
      "text/plain": "            row_id  country       store         product  num_sold\ndate                                                             \n2015-01-01       0  Finland  KaggleMart      Kaggle Mug       329\n2015-01-01       1  Finland  KaggleMart      Kaggle Hat       520\n2015-01-01       2  Finland  KaggleMart  Kaggle Sticker       146\n2015-01-01       3  Finland  KaggleRama      Kaggle Mug       572\n2015-01-01       4  Finland  KaggleRama      Kaggle Hat       911",
      "text/html": "<div>\n<style scoped>\n    .dataframe tbody tr th:only-of-type {\n        vertical-align: middle;\n    }\n\n    .dataframe tbody tr th {\n        vertical-align: top;\n    }\n\n    .dataframe thead th {\n        text-align: right;\n    }\n</style>\n<table border=\"1\" class=\"dataframe\">\n  <thead>\n    <tr style=\"text-align: right;\">\n      <th></th>\n      <th>row_id</th>\n      <th>country</th>\n      <th>store</th>\n      <th>product</th>\n      <th>num_sold</th>\n    </tr>\n    <tr>\n      <th>date</th>\n      <th></th>\n      <th></th>\n      <th></th>\n      <th></th>\n      <th></th>\n    </tr>\n  </thead>\n  <tbody>\n    <tr>\n      <th>2015-01-01</th>\n      <td>0</td>\n      <td>Finland</td>\n      <td>KaggleMart</td>\n      <td>Kaggle Mug</td>\n      <td>329</td>\n    </tr>\n    <tr>\n      <th>2015-01-01</th>\n      <td>1</td>\n      <td>Finland</td>\n      <td>KaggleMart</td>\n      <td>Kaggle Hat</td>\n      <td>520</td>\n    </tr>\n    <tr>\n      <th>2015-01-01</th>\n      <td>2</td>\n      <td>Finland</td>\n      <td>KaggleMart</td>\n      <td>Kaggle Sticker</td>\n      <td>146</td>\n    </tr>\n    <tr>\n      <th>2015-01-01</th>\n      <td>3</td>\n      <td>Finland</td>\n      <td>KaggleRama</td>\n      <td>Kaggle Mug</td>\n      <td>572</td>\n    </tr>\n    <tr>\n      <th>2015-01-01</th>\n      <td>4</td>\n      <td>Finland</td>\n      <td>KaggleRama</td>\n      <td>Kaggle Hat</td>\n      <td>911</td>\n    </tr>\n  </tbody>\n</table>\n</div>"
     },
     "metadata": {},
     "output_type": "display_data"
    },
    {
     "data": {
      "text/plain": "            row_id country       store         product  num_sold\ndate                                                            \n2018-12-31   26293  Sweden  KaggleMart      Kaggle Hat       823\n2018-12-31   26294  Sweden  KaggleMart  Kaggle Sticker       250\n2018-12-31   26295  Sweden  KaggleRama      Kaggle Mug      1004\n2018-12-31   26296  Sweden  KaggleRama      Kaggle Hat      1441\n2018-12-31   26297  Sweden  KaggleRama  Kaggle Sticker       388",
      "text/html": "<div>\n<style scoped>\n    .dataframe tbody tr th:only-of-type {\n        vertical-align: middle;\n    }\n\n    .dataframe tbody tr th {\n        vertical-align: top;\n    }\n\n    .dataframe thead th {\n        text-align: right;\n    }\n</style>\n<table border=\"1\" class=\"dataframe\">\n  <thead>\n    <tr style=\"text-align: right;\">\n      <th></th>\n      <th>row_id</th>\n      <th>country</th>\n      <th>store</th>\n      <th>product</th>\n      <th>num_sold</th>\n    </tr>\n    <tr>\n      <th>date</th>\n      <th></th>\n      <th></th>\n      <th></th>\n      <th></th>\n      <th></th>\n    </tr>\n  </thead>\n  <tbody>\n    <tr>\n      <th>2018-12-31</th>\n      <td>26293</td>\n      <td>Sweden</td>\n      <td>KaggleMart</td>\n      <td>Kaggle Hat</td>\n      <td>823</td>\n    </tr>\n    <tr>\n      <th>2018-12-31</th>\n      <td>26294</td>\n      <td>Sweden</td>\n      <td>KaggleMart</td>\n      <td>Kaggle Sticker</td>\n      <td>250</td>\n    </tr>\n    <tr>\n      <th>2018-12-31</th>\n      <td>26295</td>\n      <td>Sweden</td>\n      <td>KaggleRama</td>\n      <td>Kaggle Mug</td>\n      <td>1004</td>\n    </tr>\n    <tr>\n      <th>2018-12-31</th>\n      <td>26296</td>\n      <td>Sweden</td>\n      <td>KaggleRama</td>\n      <td>Kaggle Hat</td>\n      <td>1441</td>\n    </tr>\n    <tr>\n      <th>2018-12-31</th>\n      <td>26297</td>\n      <td>Sweden</td>\n      <td>KaggleRama</td>\n      <td>Kaggle Sticker</td>\n      <td>388</td>\n    </tr>\n  </tbody>\n</table>\n</div>"
     },
     "metadata": {},
     "output_type": "display_data"
    }
   ],
   "source": [
    "from xgboost import XGBRegressor, plot_importance\n",
    "from sklearn.preprocessing import OneHotEncoder\n",
    "from IPython.display import display\n",
    "import pandas as pd\n",
    "import numpy as np\n",
    "import holidays\n",
    "\n",
    "random_state = 3165\n",
    "store_data = pd.read_csv(\"data/train.csv\", index_col='date', parse_dates=True)\n",
    "display(store_data.head())\n",
    "display(store_data.tail())"
   ],
   "metadata": {
    "collapsed": false,
    "pycharm": {
     "name": "#%%\n"
    }
   }
  },
  {
   "cell_type": "code",
   "execution_count": 33,
   "outputs": [],
   "source": [
    "split_date = '2017-12-31'\n",
    "store_data_train = store_data.loc[store_data.index <= split_date].copy()\n",
    "store_data_val = store_data.loc[store_data.index > split_date].copy()"
   ],
   "metadata": {
    "collapsed": false,
    "pycharm": {
     "name": "#%%\n"
    }
   }
  },
  {
   "cell_type": "code",
   "execution_count": 34,
   "outputs": [],
   "source": [
    "def create_time_features(df: pd.DataFrame):\n",
    "    \"\"\"\n",
    "    Author: Rob Mulla, Robin Onsay\n",
    "    link: https://www.kaggle.com/robikscube/tutorial-time-series-forecasting-with-xgboost\n",
    "    :param df:\n",
    "    :return:\n",
    "    \"\"\"\n",
    "    date_key = 'date'\n",
    "    df[date_key] = df.index\n",
    "    df['dayofweek'] = df[date_key].dt.dayofweek\n",
    "    df['quarter'] = df[date_key].dt.quarter\n",
    "    df['month'] = df[date_key].dt.month\n",
    "    df['year'] = df[date_key].dt.year\n",
    "    df['day_of_year'] = df[date_key].dt.dayofyear\n",
    "    df['day_of_month'] = df[date_key].dt.day\n",
    "    df['week_of_year'] = np.int64(df[date_key].dt.isocalendar().week)\n",
    "    is_holiday = lambda x: (x[date_key] in holidays.CountryHoliday(x['country']))\n",
    "    df['is_holiday'] = df.apply(is_holiday, axis=1)\n",
    "    df['is_month_start'] = df[date_key].dt.is_month_start\n",
    "    df['is_month_end'] = df[date_key].dt.is_month_end\n",
    "    df['is_quarter_start'] = df[date_key].dt.is_quarter_start\n",
    "    df['is_quarter_end'] = df[date_key].dt.is_quarter_end\n",
    "    df['is_year_start'] = df[date_key].dt.is_year_start\n",
    "    df['is_year_end'] = df[date_key].dt.is_year_end\n",
    "    df['is_leap_year'] = df[date_key].dt.is_leap_year\n",
    "    return ['dayofweek', 'quarter',\n",
    "            'month', 'year',\n",
    "            'day_of_year', 'day_of_month',\n",
    "            'week_of_year', 'is_holiday',\n",
    "            'is_month_start', 'is_month_end',\n",
    "            'is_quarter_start', 'is_quarter_end',\n",
    "            'is_year_start', 'is_year_end',\n",
    "            'is_leap_year']"
   ],
   "metadata": {
    "collapsed": false,
    "pycharm": {
     "name": "#%%\n"
    }
   }
  },
  {
   "cell_type": "code",
   "execution_count": 35,
   "outputs": [],
   "source": [
    "time_features = create_time_features(store_data_train)\n",
    "_ = create_time_features(store_data_val)"
   ],
   "metadata": {
    "collapsed": false,
    "pycharm": {
     "name": "#%%\n"
    }
   }
  },
  {
   "cell_type": "code",
   "execution_count": 36,
   "outputs": [
    {
     "data": {
      "text/plain": "            dayofweek  quarter  month  year  day_of_year  day_of_month  \\\ndate                                                                     \n2015-01-01          3        1      1  2015            1             1   \n2015-01-01          3        1      1  2015            1             1   \n2015-01-01          3        1      1  2015            1             1   \n2015-01-01          3        1      1  2015            1             1   \n2015-01-01          3        1      1  2015            1             1   \n\n            week_of_year  is_holiday  is_month_start  is_month_end  \\\ndate                                                                 \n2015-01-01             1        True            True         False   \n2015-01-01             1        True            True         False   \n2015-01-01             1        True            True         False   \n2015-01-01             1        True            True         False   \n2015-01-01             1        True            True         False   \n\n            is_quarter_start  is_quarter_end  is_year_start  is_year_end  \\\ndate                                                                       \n2015-01-01              True           False           True        False   \n2015-01-01              True           False           True        False   \n2015-01-01              True           False           True        False   \n2015-01-01              True           False           True        False   \n2015-01-01              True           False           True        False   \n\n            is_leap_year  country       store         product  \ndate                                                           \n2015-01-01         False  Finland  KaggleMart      Kaggle Mug  \n2015-01-01         False  Finland  KaggleMart      Kaggle Hat  \n2015-01-01         False  Finland  KaggleMart  Kaggle Sticker  \n2015-01-01         False  Finland  KaggleRama      Kaggle Mug  \n2015-01-01         False  Finland  KaggleRama      Kaggle Hat  ",
      "text/html": "<div>\n<style scoped>\n    .dataframe tbody tr th:only-of-type {\n        vertical-align: middle;\n    }\n\n    .dataframe tbody tr th {\n        vertical-align: top;\n    }\n\n    .dataframe thead th {\n        text-align: right;\n    }\n</style>\n<table border=\"1\" class=\"dataframe\">\n  <thead>\n    <tr style=\"text-align: right;\">\n      <th></th>\n      <th>dayofweek</th>\n      <th>quarter</th>\n      <th>month</th>\n      <th>year</th>\n      <th>day_of_year</th>\n      <th>day_of_month</th>\n      <th>week_of_year</th>\n      <th>is_holiday</th>\n      <th>is_month_start</th>\n      <th>is_month_end</th>\n      <th>is_quarter_start</th>\n      <th>is_quarter_end</th>\n      <th>is_year_start</th>\n      <th>is_year_end</th>\n      <th>is_leap_year</th>\n      <th>country</th>\n      <th>store</th>\n      <th>product</th>\n    </tr>\n    <tr>\n      <th>date</th>\n      <th></th>\n      <th></th>\n      <th></th>\n      <th></th>\n      <th></th>\n      <th></th>\n      <th></th>\n      <th></th>\n      <th></th>\n      <th></th>\n      <th></th>\n      <th></th>\n      <th></th>\n      <th></th>\n      <th></th>\n      <th></th>\n      <th></th>\n      <th></th>\n    </tr>\n  </thead>\n  <tbody>\n    <tr>\n      <th>2015-01-01</th>\n      <td>3</td>\n      <td>1</td>\n      <td>1</td>\n      <td>2015</td>\n      <td>1</td>\n      <td>1</td>\n      <td>1</td>\n      <td>True</td>\n      <td>True</td>\n      <td>False</td>\n      <td>True</td>\n      <td>False</td>\n      <td>True</td>\n      <td>False</td>\n      <td>False</td>\n      <td>Finland</td>\n      <td>KaggleMart</td>\n      <td>Kaggle Mug</td>\n    </tr>\n    <tr>\n      <th>2015-01-01</th>\n      <td>3</td>\n      <td>1</td>\n      <td>1</td>\n      <td>2015</td>\n      <td>1</td>\n      <td>1</td>\n      <td>1</td>\n      <td>True</td>\n      <td>True</td>\n      <td>False</td>\n      <td>True</td>\n      <td>False</td>\n      <td>True</td>\n      <td>False</td>\n      <td>False</td>\n      <td>Finland</td>\n      <td>KaggleMart</td>\n      <td>Kaggle Hat</td>\n    </tr>\n    <tr>\n      <th>2015-01-01</th>\n      <td>3</td>\n      <td>1</td>\n      <td>1</td>\n      <td>2015</td>\n      <td>1</td>\n      <td>1</td>\n      <td>1</td>\n      <td>True</td>\n      <td>True</td>\n      <td>False</td>\n      <td>True</td>\n      <td>False</td>\n      <td>True</td>\n      <td>False</td>\n      <td>False</td>\n      <td>Finland</td>\n      <td>KaggleMart</td>\n      <td>Kaggle Sticker</td>\n    </tr>\n    <tr>\n      <th>2015-01-01</th>\n      <td>3</td>\n      <td>1</td>\n      <td>1</td>\n      <td>2015</td>\n      <td>1</td>\n      <td>1</td>\n      <td>1</td>\n      <td>True</td>\n      <td>True</td>\n      <td>False</td>\n      <td>True</td>\n      <td>False</td>\n      <td>True</td>\n      <td>False</td>\n      <td>False</td>\n      <td>Finland</td>\n      <td>KaggleRama</td>\n      <td>Kaggle Mug</td>\n    </tr>\n    <tr>\n      <th>2015-01-01</th>\n      <td>3</td>\n      <td>1</td>\n      <td>1</td>\n      <td>2015</td>\n      <td>1</td>\n      <td>1</td>\n      <td>1</td>\n      <td>True</td>\n      <td>True</td>\n      <td>False</td>\n      <td>True</td>\n      <td>False</td>\n      <td>True</td>\n      <td>False</td>\n      <td>False</td>\n      <td>Finland</td>\n      <td>KaggleRama</td>\n      <td>Kaggle Hat</td>\n    </tr>\n  </tbody>\n</table>\n</div>"
     },
     "metadata": {},
     "output_type": "display_data"
    }
   ],
   "source": [
    "features = time_features + ['country', 'store', 'product']\n",
    "X_train = store_data_train[features]\n",
    "y_train = store_data_train.num_sold\n",
    "X_val = store_data_val[features]\n",
    "y_val = store_data_val.num_sold\n",
    "display(X_train.head())"
   ],
   "metadata": {
    "collapsed": false,
    "pycharm": {
     "name": "#%%\n"
    }
   }
  },
  {
   "cell_type": "code",
   "execution_count": 37,
   "outputs": [],
   "source": [
    "def one_hot_encode(df):\n",
    "    s = (df.dtypes == 'object')\n",
    "    object_cols = list(s[s].index)\n",
    "    OH_encoder = OneHotEncoder(handle_unknown='ignore', sparse=False)\n",
    "    OH_df = pd.DataFrame(OH_encoder.fit_transform(df[object_cols]))\n",
    "    OH_df.index = df.index\n",
    "    num_cols = df.drop(object_cols, axis=1)\n",
    "    df = pd.concat([num_cols, OH_df], axis=1)\n",
    "    df.columns = df.columns.astype(str)\n",
    "    return df"
   ],
   "metadata": {
    "collapsed": false,
    "pycharm": {
     "name": "#%%\n"
    }
   }
  },
  {
   "cell_type": "code",
   "execution_count": 38,
   "outputs": [
    {
     "data": {
      "text/plain": "            dayofweek  quarter  month  year  day_of_year  day_of_month  \\\ndate                                                                     \n2015-01-01          3        1      1  2015            1             1   \n2015-01-01          3        1      1  2015            1             1   \n2015-01-01          3        1      1  2015            1             1   \n2015-01-01          3        1      1  2015            1             1   \n2015-01-01          3        1      1  2015            1             1   \n...               ...      ...    ...   ...          ...           ...   \n2017-12-31          6        4     12  2017          365            31   \n2017-12-31          6        4     12  2017          365            31   \n2017-12-31          6        4     12  2017          365            31   \n2017-12-31          6        4     12  2017          365            31   \n2017-12-31          6        4     12  2017          365            31   \n\n            week_of_year  is_holiday  is_month_start  is_month_end  ...  \\\ndate                                                                ...   \n2015-01-01             1        True            True         False  ...   \n2015-01-01             1        True            True         False  ...   \n2015-01-01             1        True            True         False  ...   \n2015-01-01             1        True            True         False  ...   \n2015-01-01             1        True            True         False  ...   \n...                  ...         ...             ...           ...  ...   \n2017-12-31            52        True           False          True  ...   \n2017-12-31            52        True           False          True  ...   \n2017-12-31            52        True           False          True  ...   \n2017-12-31            52        True           False          True  ...   \n2017-12-31            52        True           False          True  ...   \n\n            is_year_end  is_leap_year    0    1    2    3    4    5    6    7  \ndate                                                                           \n2015-01-01        False         False  1.0  0.0  0.0  1.0  0.0  0.0  1.0  0.0  \n2015-01-01        False         False  1.0  0.0  0.0  1.0  0.0  1.0  0.0  0.0  \n2015-01-01        False         False  1.0  0.0  0.0  1.0  0.0  0.0  0.0  1.0  \n2015-01-01        False         False  1.0  0.0  0.0  0.0  1.0  0.0  1.0  0.0  \n2015-01-01        False         False  1.0  0.0  0.0  0.0  1.0  1.0  0.0  0.0  \n...                 ...           ...  ...  ...  ...  ...  ...  ...  ...  ...  \n2017-12-31         True         False  0.0  0.0  1.0  1.0  0.0  1.0  0.0  0.0  \n2017-12-31         True         False  0.0  0.0  1.0  1.0  0.0  0.0  0.0  1.0  \n2017-12-31         True         False  0.0  0.0  1.0  0.0  1.0  0.0  1.0  0.0  \n2017-12-31         True         False  0.0  0.0  1.0  0.0  1.0  1.0  0.0  0.0  \n2017-12-31         True         False  0.0  0.0  1.0  0.0  1.0  0.0  0.0  1.0  \n\n[19728 rows x 23 columns]",
      "text/html": "<div>\n<style scoped>\n    .dataframe tbody tr th:only-of-type {\n        vertical-align: middle;\n    }\n\n    .dataframe tbody tr th {\n        vertical-align: top;\n    }\n\n    .dataframe thead th {\n        text-align: right;\n    }\n</style>\n<table border=\"1\" class=\"dataframe\">\n  <thead>\n    <tr style=\"text-align: right;\">\n      <th></th>\n      <th>dayofweek</th>\n      <th>quarter</th>\n      <th>month</th>\n      <th>year</th>\n      <th>day_of_year</th>\n      <th>day_of_month</th>\n      <th>week_of_year</th>\n      <th>is_holiday</th>\n      <th>is_month_start</th>\n      <th>is_month_end</th>\n      <th>...</th>\n      <th>is_year_end</th>\n      <th>is_leap_year</th>\n      <th>0</th>\n      <th>1</th>\n      <th>2</th>\n      <th>3</th>\n      <th>4</th>\n      <th>5</th>\n      <th>6</th>\n      <th>7</th>\n    </tr>\n    <tr>\n      <th>date</th>\n      <th></th>\n      <th></th>\n      <th></th>\n      <th></th>\n      <th></th>\n      <th></th>\n      <th></th>\n      <th></th>\n      <th></th>\n      <th></th>\n      <th></th>\n      <th></th>\n      <th></th>\n      <th></th>\n      <th></th>\n      <th></th>\n      <th></th>\n      <th></th>\n      <th></th>\n      <th></th>\n      <th></th>\n    </tr>\n  </thead>\n  <tbody>\n    <tr>\n      <th>2015-01-01</th>\n      <td>3</td>\n      <td>1</td>\n      <td>1</td>\n      <td>2015</td>\n      <td>1</td>\n      <td>1</td>\n      <td>1</td>\n      <td>True</td>\n      <td>True</td>\n      <td>False</td>\n      <td>...</td>\n      <td>False</td>\n      <td>False</td>\n      <td>1.0</td>\n      <td>0.0</td>\n      <td>0.0</td>\n      <td>1.0</td>\n      <td>0.0</td>\n      <td>0.0</td>\n      <td>1.0</td>\n      <td>0.0</td>\n    </tr>\n    <tr>\n      <th>2015-01-01</th>\n      <td>3</td>\n      <td>1</td>\n      <td>1</td>\n      <td>2015</td>\n      <td>1</td>\n      <td>1</td>\n      <td>1</td>\n      <td>True</td>\n      <td>True</td>\n      <td>False</td>\n      <td>...</td>\n      <td>False</td>\n      <td>False</td>\n      <td>1.0</td>\n      <td>0.0</td>\n      <td>0.0</td>\n      <td>1.0</td>\n      <td>0.0</td>\n      <td>1.0</td>\n      <td>0.0</td>\n      <td>0.0</td>\n    </tr>\n    <tr>\n      <th>2015-01-01</th>\n      <td>3</td>\n      <td>1</td>\n      <td>1</td>\n      <td>2015</td>\n      <td>1</td>\n      <td>1</td>\n      <td>1</td>\n      <td>True</td>\n      <td>True</td>\n      <td>False</td>\n      <td>...</td>\n      <td>False</td>\n      <td>False</td>\n      <td>1.0</td>\n      <td>0.0</td>\n      <td>0.0</td>\n      <td>1.0</td>\n      <td>0.0</td>\n      <td>0.0</td>\n      <td>0.0</td>\n      <td>1.0</td>\n    </tr>\n    <tr>\n      <th>2015-01-01</th>\n      <td>3</td>\n      <td>1</td>\n      <td>1</td>\n      <td>2015</td>\n      <td>1</td>\n      <td>1</td>\n      <td>1</td>\n      <td>True</td>\n      <td>True</td>\n      <td>False</td>\n      <td>...</td>\n      <td>False</td>\n      <td>False</td>\n      <td>1.0</td>\n      <td>0.0</td>\n      <td>0.0</td>\n      <td>0.0</td>\n      <td>1.0</td>\n      <td>0.0</td>\n      <td>1.0</td>\n      <td>0.0</td>\n    </tr>\n    <tr>\n      <th>2015-01-01</th>\n      <td>3</td>\n      <td>1</td>\n      <td>1</td>\n      <td>2015</td>\n      <td>1</td>\n      <td>1</td>\n      <td>1</td>\n      <td>True</td>\n      <td>True</td>\n      <td>False</td>\n      <td>...</td>\n      <td>False</td>\n      <td>False</td>\n      <td>1.0</td>\n      <td>0.0</td>\n      <td>0.0</td>\n      <td>0.0</td>\n      <td>1.0</td>\n      <td>1.0</td>\n      <td>0.0</td>\n      <td>0.0</td>\n    </tr>\n    <tr>\n      <th>...</th>\n      <td>...</td>\n      <td>...</td>\n      <td>...</td>\n      <td>...</td>\n      <td>...</td>\n      <td>...</td>\n      <td>...</td>\n      <td>...</td>\n      <td>...</td>\n      <td>...</td>\n      <td>...</td>\n      <td>...</td>\n      <td>...</td>\n      <td>...</td>\n      <td>...</td>\n      <td>...</td>\n      <td>...</td>\n      <td>...</td>\n      <td>...</td>\n      <td>...</td>\n      <td>...</td>\n    </tr>\n    <tr>\n      <th>2017-12-31</th>\n      <td>6</td>\n      <td>4</td>\n      <td>12</td>\n      <td>2017</td>\n      <td>365</td>\n      <td>31</td>\n      <td>52</td>\n      <td>True</td>\n      <td>False</td>\n      <td>True</td>\n      <td>...</td>\n      <td>True</td>\n      <td>False</td>\n      <td>0.0</td>\n      <td>0.0</td>\n      <td>1.0</td>\n      <td>1.0</td>\n      <td>0.0</td>\n      <td>1.0</td>\n      <td>0.0</td>\n      <td>0.0</td>\n    </tr>\n    <tr>\n      <th>2017-12-31</th>\n      <td>6</td>\n      <td>4</td>\n      <td>12</td>\n      <td>2017</td>\n      <td>365</td>\n      <td>31</td>\n      <td>52</td>\n      <td>True</td>\n      <td>False</td>\n      <td>True</td>\n      <td>...</td>\n      <td>True</td>\n      <td>False</td>\n      <td>0.0</td>\n      <td>0.0</td>\n      <td>1.0</td>\n      <td>1.0</td>\n      <td>0.0</td>\n      <td>0.0</td>\n      <td>0.0</td>\n      <td>1.0</td>\n    </tr>\n    <tr>\n      <th>2017-12-31</th>\n      <td>6</td>\n      <td>4</td>\n      <td>12</td>\n      <td>2017</td>\n      <td>365</td>\n      <td>31</td>\n      <td>52</td>\n      <td>True</td>\n      <td>False</td>\n      <td>True</td>\n      <td>...</td>\n      <td>True</td>\n      <td>False</td>\n      <td>0.0</td>\n      <td>0.0</td>\n      <td>1.0</td>\n      <td>0.0</td>\n      <td>1.0</td>\n      <td>0.0</td>\n      <td>1.0</td>\n      <td>0.0</td>\n    </tr>\n    <tr>\n      <th>2017-12-31</th>\n      <td>6</td>\n      <td>4</td>\n      <td>12</td>\n      <td>2017</td>\n      <td>365</td>\n      <td>31</td>\n      <td>52</td>\n      <td>True</td>\n      <td>False</td>\n      <td>True</td>\n      <td>...</td>\n      <td>True</td>\n      <td>False</td>\n      <td>0.0</td>\n      <td>0.0</td>\n      <td>1.0</td>\n      <td>0.0</td>\n      <td>1.0</td>\n      <td>1.0</td>\n      <td>0.0</td>\n      <td>0.0</td>\n    </tr>\n    <tr>\n      <th>2017-12-31</th>\n      <td>6</td>\n      <td>4</td>\n      <td>12</td>\n      <td>2017</td>\n      <td>365</td>\n      <td>31</td>\n      <td>52</td>\n      <td>True</td>\n      <td>False</td>\n      <td>True</td>\n      <td>...</td>\n      <td>True</td>\n      <td>False</td>\n      <td>0.0</td>\n      <td>0.0</td>\n      <td>1.0</td>\n      <td>0.0</td>\n      <td>1.0</td>\n      <td>0.0</td>\n      <td>0.0</td>\n      <td>1.0</td>\n    </tr>\n  </tbody>\n</table>\n<p>19728 rows × 23 columns</p>\n</div>"
     },
     "metadata": {},
     "output_type": "display_data"
    }
   ],
   "source": [
    "X_train = one_hot_encode(X_train)\n",
    "X_val = one_hot_encode(X_val)\n",
    "display(X_train)"
   ],
   "metadata": {
    "collapsed": false,
    "pycharm": {
     "name": "#%%\n"
    }
   }
  },
  {
   "cell_type": "markdown",
   "source": [
    "## Step 2. Train the Model"
   ],
   "metadata": {
    "collapsed": false,
    "pycharm": {
     "name": "#%% md\n"
    }
   }
  },
  {
   "cell_type": "code",
   "execution_count": 39,
   "outputs": [
    {
     "name": "stdout",
     "output_type": "stream",
     "text": [
      "Best Iteration: 8143\n"
     ]
    },
    {
     "data": {
      "text/plain": "<Figure size 432x288 with 1 Axes>",
      "image/png": "[encoded data removed]"
     },
     "metadata": {
      "needs_background": "light"
     },
     "output_type": "display_data"
    }
   ],
   "source": [
    "learning_rate = 0.001\n",
    "forest_model = XGBRegressor(n_estimators=10000,\n",
    "                            learning_rate=learning_rate,\n",
    "                            random_state=random_state)\n",
    "forest_model.fit(X_train, y_train,\n",
    "                 early_stopping_rounds=50,\n",
    "                 eval_set=[(X_val, y_val)],\n",
    "                 verbose=False)\n",
    "_ = plot_importance(forest_model)\n",
    "predictions = forest_model.predict(X_val)\n",
    "best_iteration = forest_model.best_iteration\n",
    "print(f\"Best Iteration: {best_iteration}\")"
   ],
   "metadata": {
    "collapsed": false,
    "pycharm": {
     "name": "#%%\n"
    }
   }
  },
  {
   "cell_type": "markdown",
   "source": [
    "## Step 3. Validate the Model"
   ],
   "metadata": {
    "collapsed": false,
    "pycharm": {
     "name": "#%% md\n"
    }
   }
  },
  {
   "cell_type": "code",
   "execution_count": 40,
   "outputs": [
    {
     "name": "stdout",
     "output_type": "stream",
     "text": [
      "SMAPE: 8.38844397093626\n"
     ]
    }
   ],
   "source": [
    "def smape(A, F):\n",
    "    \"\"\"\n",
    "    Thanks https://stackoverflow.com/questions/51444630/how-to-use-smape-evaluation-metric-on-train-dataset and https://en.wikipedia.org/wiki/Symmetric_mean_absolute_percentage_error\n",
    "    \"\"\"\n",
    "    return 100/len(A) * np.sum(2 * np.abs(F - A) / (np.abs(A) + np.abs(F)))\n",
    "\n",
    "print(f\"SMAPE: {smape(y_val, predictions)}\")"
   ],
   "metadata": {
    "collapsed": false,
    "pycharm": {
     "name": "#%%\n"
    }
   }
  },
  {
   "cell_type": "markdown",
   "source": [
    "## Step 4. Choose/Train the Complete Model"
   ],
   "metadata": {
    "collapsed": false,
    "pycharm": {
     "name": "#%% md\n"
    }
   }
  },
  {
   "cell_type": "code",
   "execution_count": 41,
   "outputs": [
    {
     "data": {
      "text/plain": "XGBRegressor(base_score=0.5, booster='gbtree', colsample_bylevel=1,\n             colsample_bynode=1, colsample_bytree=1, enable_categorical=False,\n             gamma=0, gpu_id=-1, importance_type=None,\n             interaction_constraints='', learning_rate=0.001, max_delta_step=0,\n             max_depth=6, min_child_weight=1, missing=nan,\n             monotone_constraints='()', n_estimators=8143, n_jobs=8,\n             num_parallel_tree=1, predictor='auto', random_state=3165,\n             reg_alpha=0, reg_lambda=1, scale_pos_weight=1, subsample=1,\n             tree_method='exact', validate_parameters=1, verbosity=None)"
     },
     "execution_count": 41,
     "metadata": {},
     "output_type": "execute_result"
    }
   ],
   "source": [
    "forest_model = XGBRegressor(n_estimators=best_iteration,\n",
    "                            learning_rate=learning_rate,\n",
    "                            random_state=random_state)\n",
    "X = pd.concat([X_train, X_val], axis=0)\n",
    "y = pd.concat([y_train, y_val], axis=0)\n",
    "forest_model.fit(X, y, verbose=False)"
   ],
   "metadata": {
    "collapsed": false,
    "pycharm": {
     "name": "#%%\n"
    }
   }
  },
  {
   "cell_type": "markdown",
   "source": [
    "## Step 5. Predict Test Values"
   ],
   "metadata": {
    "collapsed": false,
    "pycharm": {
     "name": "#%% md\n"
    }
   }
  },
  {
   "cell_type": "code",
   "execution_count": 42,
   "outputs": [
    {
     "data": {
      "text/plain": "            row_id  country       store         product\ndate                                                   \n2019-01-01   26298  Finland  KaggleMart      Kaggle Mug\n2019-01-01   26299  Finland  KaggleMart      Kaggle Hat\n2019-01-01   26300  Finland  KaggleMart  Kaggle Sticker\n2019-01-01   26301  Finland  KaggleRama      Kaggle Mug\n2019-01-01   26302  Finland  KaggleRama      Kaggle Hat",
      "text/html": "<div>\n<style scoped>\n    .dataframe tbody tr th:only-of-type {\n        vertical-align: middle;\n    }\n\n    .dataframe tbody tr th {\n        vertical-align: top;\n    }\n\n    .dataframe thead th {\n        text-align: right;\n    }\n</style>\n<table border=\"1\" class=\"dataframe\">\n  <thead>\n    <tr style=\"text-align: right;\">\n      <th></th>\n      <th>row_id</th>\n      <th>country</th>\n      <th>store</th>\n      <th>product</th>\n    </tr>\n    <tr>\n      <th>date</th>\n      <th></th>\n      <th></th>\n      <th></th>\n      <th></th>\n    </tr>\n  </thead>\n  <tbody>\n    <tr>\n      <th>2019-01-01</th>\n      <td>26298</td>\n      <td>Finland</td>\n      <td>KaggleMart</td>\n      <td>Kaggle Mug</td>\n    </tr>\n    <tr>\n      <th>2019-01-01</th>\n      <td>26299</td>\n      <td>Finland</td>\n      <td>KaggleMart</td>\n      <td>Kaggle Hat</td>\n    </tr>\n    <tr>\n      <th>2019-01-01</th>\n      <td>26300</td>\n      <td>Finland</td>\n      <td>KaggleMart</td>\n      <td>Kaggle Sticker</td>\n    </tr>\n    <tr>\n      <th>2019-01-01</th>\n      <td>26301</td>\n      <td>Finland</td>\n      <td>KaggleRama</td>\n      <td>Kaggle Mug</td>\n    </tr>\n    <tr>\n      <th>2019-01-01</th>\n      <td>26302</td>\n      <td>Finland</td>\n      <td>KaggleRama</td>\n      <td>Kaggle Hat</td>\n    </tr>\n  </tbody>\n</table>\n</div>"
     },
     "metadata": {},
     "output_type": "display_data"
    }
   ],
   "source": [
    "test_df = pd.read_csv(\"data/test.csv\", index_col='date', parse_dates=True)\n",
    "display(test_df.head())\n",
    "_ = create_time_features(test_df)"
   ],
   "metadata": {
    "collapsed": false,
    "pycharm": {
     "name": "#%%\n"
    }
   }
  },
  {
   "cell_type": "code",
   "execution_count": 43,
   "outputs": [
    {
     "data": {
      "text/plain": "            dayofweek  quarter  month  year  day_of_year  day_of_month  \\\ndate                                                                     \n2019-01-01          1        1      1  2019            1             1   \n2019-01-01          1        1      1  2019            1             1   \n2019-01-01          1        1      1  2019            1             1   \n2019-01-01          1        1      1  2019            1             1   \n2019-01-01          1        1      1  2019            1             1   \n\n            week_of_year  is_holiday  is_month_start  is_month_end  ...  \\\ndate                                                                ...   \n2019-01-01             1        True            True         False  ...   \n2019-01-01             1        True            True         False  ...   \n2019-01-01             1        True            True         False  ...   \n2019-01-01             1        True            True         False  ...   \n2019-01-01             1        True            True         False  ...   \n\n            is_year_end  is_leap_year    0    1    2    3    4    5    6    7  \ndate                                                                           \n2019-01-01        False         False  1.0  0.0  0.0  1.0  0.0  0.0  1.0  0.0  \n2019-01-01        False         False  1.0  0.0  0.0  1.0  0.0  1.0  0.0  0.0  \n2019-01-01        False         False  1.0  0.0  0.0  1.0  0.0  0.0  0.0  1.0  \n2019-01-01        False         False  1.0  0.0  0.0  0.0  1.0  0.0  1.0  0.0  \n2019-01-01        False         False  1.0  0.0  0.0  0.0  1.0  1.0  0.0  0.0  \n\n[5 rows x 23 columns]",
      "text/html": "<div>\n<style scoped>\n    .dataframe tbody tr th:only-of-type {\n        vertical-align: middle;\n    }\n\n    .dataframe tbody tr th {\n        vertical-align: top;\n    }\n\n    .dataframe thead th {\n        text-align: right;\n    }\n</style>\n<table border=\"1\" class=\"dataframe\">\n  <thead>\n    <tr style=\"text-align: right;\">\n      <th></th>\n      <th>dayofweek</th>\n      <th>quarter</th>\n      <th>month</th>\n      <th>year</th>\n      <th>day_of_year</th>\n      <th>day_of_month</th>\n      <th>week_of_year</th>\n      <th>is_holiday</th>\n      <th>is_month_start</th>\n      <th>is_month_end</th>\n      <th>...</th>\n      <th>is_year_end</th>\n      <th>is_leap_year</th>\n      <th>0</th>\n      <th>1</th>\n      <th>2</th>\n      <th>3</th>\n      <th>4</th>\n      <th>5</th>\n      <th>6</th>\n      <th>7</th>\n    </tr>\n    <tr>\n      <th>date</th>\n      <th></th>\n      <th></th>\n      <th></th>\n      <th></th>\n      <th></th>\n      <th></th>\n      <th></th>\n      <th></th>\n      <th></th>\n      <th></th>\n      <th></th>\n      <th></th>\n      <th></th>\n      <th></th>\n      <th></th>\n      <th></th>\n      <th></th>\n      <th></th>\n      <th></th>\n      <th></th>\n      <th></th>\n    </tr>\n  </thead>\n  <tbody>\n    <tr>\n      <th>2019-01-01</th>\n      <td>1</td>\n      <td>1</td>\n      <td>1</td>\n      <td>2019</td>\n      <td>1</td>\n      <td>1</td>\n      <td>1</td>\n      <td>True</td>\n      <td>True</td>\n      <td>False</td>\n      <td>...</td>\n      <td>False</td>\n      <td>False</td>\n      <td>1.0</td>\n      <td>0.0</td>\n      <td>0.0</td>\n      <td>1.0</td>\n      <td>0.0</td>\n      <td>0.0</td>\n      <td>1.0</td>\n      <td>0.0</td>\n    </tr>\n    <tr>\n      <th>2019-01-01</th>\n      <td>1</td>\n      <td>1</td>\n      <td>1</td>\n      <td>2019</td>\n      <td>1</td>\n      <td>1</td>\n      <td>1</td>\n      <td>True</td>\n      <td>True</td>\n      <td>False</td>\n      <td>...</td>\n      <td>False</td>\n      <td>False</td>\n      <td>1.0</td>\n      <td>0.0</td>\n      <td>0.0</td>\n      <td>1.0</td>\n      <td>0.0</td>\n      <td>1.0</td>\n      <td>0.0</td>\n      <td>0.0</td>\n    </tr>\n    <tr>\n      <th>2019-01-01</th>\n      <td>1</td>\n      <td>1</td>\n      <td>1</td>\n      <td>2019</td>\n      <td>1</td>\n      <td>1</td>\n      <td>1</td>\n      <td>True</td>\n      <td>True</td>\n      <td>False</td>\n      <td>...</td>\n      <td>False</td>\n      <td>False</td>\n      <td>1.0</td>\n      <td>0.0</td>\n      <td>0.0</td>\n      <td>1.0</td>\n      <td>0.0</td>\n      <td>0.0</td>\n      <td>0.0</td>\n      <td>1.0</td>\n    </tr>\n    <tr>\n      <th>2019-01-01</th>\n      <td>1</td>\n      <td>1</td>\n      <td>1</td>\n      <td>2019</td>\n      <td>1</td>\n      <td>1</td>\n      <td>1</td>\n      <td>True</td>\n      <td>True</td>\n      <td>False</td>\n      <td>...</td>\n      <td>False</td>\n      <td>False</td>\n      <td>1.0</td>\n      <td>0.0</td>\n      <td>0.0</td>\n      <td>0.0</td>\n      <td>1.0</td>\n      <td>0.0</td>\n      <td>1.0</td>\n      <td>0.0</td>\n    </tr>\n    <tr>\n      <th>2019-01-01</th>\n      <td>1</td>\n      <td>1</td>\n      <td>1</td>\n      <td>2019</td>\n      <td>1</td>\n      <td>1</td>\n      <td>1</td>\n      <td>True</td>\n      <td>True</td>\n      <td>False</td>\n      <td>...</td>\n      <td>False</td>\n      <td>False</td>\n      <td>1.0</td>\n      <td>0.0</td>\n      <td>0.0</td>\n      <td>0.0</td>\n      <td>1.0</td>\n      <td>1.0</td>\n      <td>0.0</td>\n      <td>0.0</td>\n    </tr>\n  </tbody>\n</table>\n<p>5 rows × 23 columns</p>\n</div>"
     },
     "metadata": {},
     "output_type": "display_data"
    }
   ],
   "source": [
    "test_X = test_df[features]\n",
    "test_X = one_hot_encode(test_X)\n",
    "display(test_X.head())"
   ],
   "metadata": {
    "collapsed": false,
    "pycharm": {
     "name": "#%%\n"
    }
   }
  },
  {
   "cell_type": "code",
   "execution_count": 44,
   "outputs": [
    {
     "data": {
      "text/plain": "row_id\n26298     399\n26299     604\n26300     178\n26301     692\n26302    1036\nName: num_sold, dtype: int64"
     },
     "metadata": {},
     "output_type": "display_data"
    }
   ],
   "source": [
    "predictions = np.round(forest_model.predict(test_X))\n",
    "test_df['num_sold'] = np.int64(predictions)\n",
    "output = test_df.set_index('row_id')['num_sold']\n",
    "display(output)\n",
    "output.to_csv('predictions/xgboost_predictions.csv')"
   ],
   "metadata": {
    "collapsed": false,
    "pycharm": {
     "name": "#%%\n"
    }
   }
  }
 ],
 "metadata": {
  "kernelspec": {
   "display_name": "Python 3",
   "language": "python",
   "name": "python3"
  },
  "language_info": {
   "codemirror_mode": {
    "name": "ipython",
    "version": 2
   },
   "file_extension": ".py",
   "mimetype": "text/x-python",
   "name": "python",
   "nbconvert_exporter": "python",
   "pygments_lexer": "ipython2",
   "version": "2.7.6"
  }
 },
 "nbformat": 4,
 "nbformat_minor": 0
}