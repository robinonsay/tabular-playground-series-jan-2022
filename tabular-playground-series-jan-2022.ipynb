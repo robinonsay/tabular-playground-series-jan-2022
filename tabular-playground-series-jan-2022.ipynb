{
 "cells": [
  {
   "cell_type": "markdown",
   "metadata": {
    "pycharm": {
     "name": "#%% md\n"
    }
   },
   "source": [
    "# Tabular Playground Series (January 2022)\n",
    "## Import Data and Gather Insights"
   ]
  },
  {
   "cell_type": "code",
   "execution_count": 1,
   "metadata": {
    "pycharm": {
     "name": "#%%\n"
    }
   },
   "outputs": [
    {
     "data": {
      "text/plain": "             date  country       store         product  num_sold\nrow_id                                                          \n0      2015-01-01  Finland  KaggleMart      Kaggle Mug       329\n1      2015-01-01  Finland  KaggleMart      Kaggle Hat       520\n2      2015-01-01  Finland  KaggleMart  Kaggle Sticker       146\n3      2015-01-01  Finland  KaggleRama      Kaggle Mug       572\n4      2015-01-01  Finland  KaggleRama      Kaggle Hat       911\n...           ...      ...         ...             ...       ...\n26293  2018-12-31   Sweden  KaggleMart      Kaggle Hat       823\n26294  2018-12-31   Sweden  KaggleMart  Kaggle Sticker       250\n26295  2018-12-31   Sweden  KaggleRama      Kaggle Mug      1004\n26296  2018-12-31   Sweden  KaggleRama      Kaggle Hat      1441\n26297  2018-12-31   Sweden  KaggleRama  Kaggle Sticker       388\n\n[26298 rows x 5 columns]",
      "text/html": "<div>\n<style scoped>\n    .dataframe tbody tr th:only-of-type {\n        vertical-align: middle;\n    }\n\n    .dataframe tbody tr th {\n        vertical-align: top;\n    }\n\n    .dataframe thead th {\n        text-align: right;\n    }\n</style>\n<table border=\"1\" class=\"dataframe\">\n  <thead>\n    <tr style=\"text-align: right;\">\n      <th></th>\n      <th>date</th>\n      <th>country</th>\n      <th>store</th>\n      <th>product</th>\n      <th>num_sold</th>\n    </tr>\n    <tr>\n      <th>row_id</th>\n      <th></th>\n      <th></th>\n      <th></th>\n      <th></th>\n      <th></th>\n    </tr>\n  </thead>\n  <tbody>\n    <tr>\n      <th>0</th>\n      <td>2015-01-01</td>\n      <td>Finland</td>\n      <td>KaggleMart</td>\n      <td>Kaggle Mug</td>\n      <td>329</td>\n    </tr>\n    <tr>\n      <th>1</th>\n      <td>2015-01-01</td>\n      <td>Finland</td>\n      <td>KaggleMart</td>\n      <td>Kaggle Hat</td>\n      <td>520</td>\n    </tr>\n    <tr>\n      <th>2</th>\n      <td>2015-01-01</td>\n      <td>Finland</td>\n      <td>KaggleMart</td>\n      <td>Kaggle Sticker</td>\n      <td>146</td>\n    </tr>\n    <tr>\n      <th>3</th>\n      <td>2015-01-01</td>\n      <td>Finland</td>\n      <td>KaggleRama</td>\n      <td>Kaggle Mug</td>\n      <td>572</td>\n    </tr>\n    <tr>\n      <th>4</th>\n      <td>2015-01-01</td>\n      <td>Finland</td>\n      <td>KaggleRama</td>\n      <td>Kaggle Hat</td>\n      <td>911</td>\n    </tr>\n    <tr>\n      <th>...</th>\n      <td>...</td>\n      <td>...</td>\n      <td>...</td>\n      <td>...</td>\n      <td>...</td>\n    </tr>\n    <tr>\n      <th>26293</th>\n      <td>2018-12-31</td>\n      <td>Sweden</td>\n      <td>KaggleMart</td>\n      <td>Kaggle Hat</td>\n      <td>823</td>\n    </tr>\n    <tr>\n      <th>26294</th>\n      <td>2018-12-31</td>\n      <td>Sweden</td>\n      <td>KaggleMart</td>\n      <td>Kaggle Sticker</td>\n      <td>250</td>\n    </tr>\n    <tr>\n      <th>26295</th>\n      <td>2018-12-31</td>\n      <td>Sweden</td>\n      <td>KaggleRama</td>\n      <td>Kaggle Mug</td>\n      <td>1004</td>\n    </tr>\n    <tr>\n      <th>26296</th>\n      <td>2018-12-31</td>\n      <td>Sweden</td>\n      <td>KaggleRama</td>\n      <td>Kaggle Hat</td>\n      <td>1441</td>\n    </tr>\n    <tr>\n      <th>26297</th>\n      <td>2018-12-31</td>\n      <td>Sweden</td>\n      <td>KaggleRama</td>\n      <td>Kaggle Sticker</td>\n      <td>388</td>\n    </tr>\n  </tbody>\n</table>\n<p>26298 rows × 5 columns</p>\n</div>"
     },
     "metadata": {},
     "output_type": "display_data"
    }
   ],
   "source": [
    "from typing import Dict\n",
    "import numpy as np\n",
    "import pandas as pd\n",
    "from IPython.display import display\n",
    "from sklearn.neural_network import MLPRegressor\n",
    "\n",
    "training_df = pd.read_csv(\"data/train.csv\", index_col='row_id')\n",
    "training_df['date'] = pd.to_datetime(training_df['date'], format='%Y-%m-%d')\n",
    "display(training_df)"
   ]
  },
  {
   "cell_type": "code",
   "execution_count": 2,
   "metadata": {
    "pycharm": {
     "name": "#%%\n"
    }
   },
   "outputs": [
    {
     "name": "stdout",
     "output_type": "stream",
     "text": [
      "<class 'pandas.core.frame.DataFrame'>\n",
      "Int64Index: 26298 entries, 0 to 26297\n",
      "Data columns (total 5 columns):\n",
      " #   Column    Non-Null Count  Dtype         \n",
      "---  ------    --------------  -----         \n",
      " 0   date      26298 non-null  datetime64[ns]\n",
      " 1   country   26298 non-null  object        \n",
      " 2   store     26298 non-null  object        \n",
      " 3   product   26298 non-null  object        \n",
      " 4   num_sold  26298 non-null  int64         \n",
      "dtypes: datetime64[ns](1), int64(1), object(3)\n",
      "memory usage: 1.2+ MB\n"
     ]
    },
    {
     "data": {
      "text/plain": "None"
     },
     "metadata": {},
     "output_type": "display_data"
    }
   ],
   "source": [
    "display(training_df.info())"
   ]
  },
  {
   "cell_type": "code",
   "execution_count": 3,
   "metadata": {
    "pycharm": {
     "name": "#%%\n"
    }
   },
   "outputs": [],
   "source": [
    "training_df['date'] = training_df['date'].dt.strftime(\"%m%d\").astype(int)\n",
    "countries = training_df.drop_duplicates(subset='country')['country']\n",
    "stores = training_df.drop_duplicates(subset='store')['store']\n",
    "products = training_df.drop_duplicates(subset='product')['product']"
   ]
  },
  {
   "cell_type": "code",
   "execution_count": 4,
   "metadata": {
    "pycharm": {
     "name": "#%%\n"
    }
   },
   "outputs": [],
   "source": [
    "def map_str_to_int(series: pd.Series) -> Dict:\n",
    "    i = 0\n",
    "    _map = {}\n",
    "    for item in series:\n",
    "        _map[item] = i\n",
    "        i += 1\n",
    "    return _map"
   ]
  },
  {
   "cell_type": "code",
   "execution_count": 5,
   "metadata": {
    "pycharm": {
     "name": "#%%\n"
    }
   },
   "outputs": [
    {
     "data": {
      "text/plain": "        date  country  store  product  num_sold\nrow_id                                         \n0        101        0      0        0       329\n1        101        0      0        1       520\n2        101        0      0        2       146\n3        101        0      1        0       572\n4        101        0      1        1       911\n...      ...      ...    ...      ...       ...\n26293   1231        2      0        1       823\n26294   1231        2      0        2       250\n26295   1231        2      1        0      1004\n26296   1231        2      1        1      1441\n26297   1231        2      1        2       388\n\n[26298 rows x 5 columns]",
      "text/html": "<div>\n<style scoped>\n    .dataframe tbody tr th:only-of-type {\n        vertical-align: middle;\n    }\n\n    .dataframe tbody tr th {\n        vertical-align: top;\n    }\n\n    .dataframe thead th {\n        text-align: right;\n    }\n</style>\n<table border=\"1\" class=\"dataframe\">\n  <thead>\n    <tr style=\"text-align: right;\">\n      <th></th>\n      <th>date</th>\n      <th>country</th>\n      <th>store</th>\n      <th>product</th>\n      <th>num_sold</th>\n    </tr>\n    <tr>\n      <th>row_id</th>\n      <th></th>\n      <th></th>\n      <th></th>\n      <th></th>\n      <th></th>\n    </tr>\n  </thead>\n  <tbody>\n    <tr>\n      <th>0</th>\n      <td>101</td>\n      <td>0</td>\n      <td>0</td>\n      <td>0</td>\n      <td>329</td>\n    </tr>\n    <tr>\n      <th>1</th>\n      <td>101</td>\n      <td>0</td>\n      <td>0</td>\n      <td>1</td>\n      <td>520</td>\n    </tr>\n    <tr>\n      <th>2</th>\n      <td>101</td>\n      <td>0</td>\n      <td>0</td>\n      <td>2</td>\n      <td>146</td>\n    </tr>\n    <tr>\n      <th>3</th>\n      <td>101</td>\n      <td>0</td>\n      <td>1</td>\n      <td>0</td>\n      <td>572</td>\n    </tr>\n    <tr>\n      <th>4</th>\n      <td>101</td>\n      <td>0</td>\n      <td>1</td>\n      <td>1</td>\n      <td>911</td>\n    </tr>\n    <tr>\n      <th>...</th>\n      <td>...</td>\n      <td>...</td>\n      <td>...</td>\n      <td>...</td>\n      <td>...</td>\n    </tr>\n    <tr>\n      <th>26293</th>\n      <td>1231</td>\n      <td>2</td>\n      <td>0</td>\n      <td>1</td>\n      <td>823</td>\n    </tr>\n    <tr>\n      <th>26294</th>\n      <td>1231</td>\n      <td>2</td>\n      <td>0</td>\n      <td>2</td>\n      <td>250</td>\n    </tr>\n    <tr>\n      <th>26295</th>\n      <td>1231</td>\n      <td>2</td>\n      <td>1</td>\n      <td>0</td>\n      <td>1004</td>\n    </tr>\n    <tr>\n      <th>26296</th>\n      <td>1231</td>\n      <td>2</td>\n      <td>1</td>\n      <td>1</td>\n      <td>1441</td>\n    </tr>\n    <tr>\n      <th>26297</th>\n      <td>1231</td>\n      <td>2</td>\n      <td>1</td>\n      <td>2</td>\n      <td>388</td>\n    </tr>\n  </tbody>\n</table>\n<p>26298 rows × 5 columns</p>\n</div>"
     },
     "metadata": {},
     "output_type": "display_data"
    }
   ],
   "source": [
    "training_df.replace(to_replace=map_str_to_int(countries), inplace=True)\n",
    "training_df.replace(to_replace=map_str_to_int(stores), inplace=True)\n",
    "training_df.replace(to_replace=map_str_to_int(products), inplace=True)\n",
    "display(training_df)"
   ]
  },
  {
   "cell_type": "markdown",
   "metadata": {
    "pycharm": {
     "name": "#%% md\n"
    }
   },
   "source": [
    "## Train MLP Regression Model"
   ]
  },
  {
   "cell_type": "code",
   "execution_count": 6,
   "metadata": {
    "pycharm": {
     "name": "#%%\n"
    }
   },
   "outputs": [],
   "source": [
    "training_data = training_df[['date', 'country', 'store', 'product']].to_numpy()\n",
    "target_values = training_df[['num_sold']].to_numpy().ravel()"
   ]
  },
  {
   "cell_type": "code",
   "execution_count": 7,
   "metadata": {
    "pycharm": {
     "name": "#%%\n"
    }
   },
   "outputs": [],
   "source": [
    "mlp_regressor = MLPRegressor(hidden_layer_sizes=(256,16,4),\n",
    "                             activation='relu',\n",
    "                             max_iter=400)\n",
    "mlp_regressor = mlp_regressor.fit(training_data, target_values)"
   ]
  },
  {
   "cell_type": "markdown",
   "metadata": {
    "pycharm": {
     "name": "#%% md\n"
    }
   },
   "source": [
    "## Testing MLP Regressor Model"
   ]
  },
  {
   "cell_type": "code",
   "execution_count": 8,
   "metadata": {
    "pycharm": {
     "name": "#%%\n"
    }
   },
   "outputs": [
    {
     "data": {
      "text/plain": "             date  country       store         product\nrow_id                                                \n26298  2019-01-01  Finland  KaggleMart      Kaggle Mug\n26299  2019-01-01  Finland  KaggleMart      Kaggle Hat\n26300  2019-01-01  Finland  KaggleMart  Kaggle Sticker\n26301  2019-01-01  Finland  KaggleRama      Kaggle Mug\n26302  2019-01-01  Finland  KaggleRama      Kaggle Hat\n...           ...      ...         ...             ...\n32863  2019-12-31   Sweden  KaggleMart      Kaggle Hat\n32864  2019-12-31   Sweden  KaggleMart  Kaggle Sticker\n32865  2019-12-31   Sweden  KaggleRama      Kaggle Mug\n32866  2019-12-31   Sweden  KaggleRama      Kaggle Hat\n32867  2019-12-31   Sweden  KaggleRama  Kaggle Sticker\n\n[6570 rows x 4 columns]",
      "text/html": "<div>\n<style scoped>\n    .dataframe tbody tr th:only-of-type {\n        vertical-align: middle;\n    }\n\n    .dataframe tbody tr th {\n        vertical-align: top;\n    }\n\n    .dataframe thead th {\n        text-align: right;\n    }\n</style>\n<table border=\"1\" class=\"dataframe\">\n  <thead>\n    <tr style=\"text-align: right;\">\n      <th></th>\n      <th>date</th>\n      <th>country</th>\n      <th>store</th>\n      <th>product</th>\n    </tr>\n    <tr>\n      <th>row_id</th>\n      <th></th>\n      <th></th>\n      <th></th>\n      <th></th>\n    </tr>\n  </thead>\n  <tbody>\n    <tr>\n      <th>26298</th>\n      <td>2019-01-01</td>\n      <td>Finland</td>\n      <td>KaggleMart</td>\n      <td>Kaggle Mug</td>\n    </tr>\n    <tr>\n      <th>26299</th>\n      <td>2019-01-01</td>\n      <td>Finland</td>\n      <td>KaggleMart</td>\n      <td>Kaggle Hat</td>\n    </tr>\n    <tr>\n      <th>26300</th>\n      <td>2019-01-01</td>\n      <td>Finland</td>\n      <td>KaggleMart</td>\n      <td>Kaggle Sticker</td>\n    </tr>\n    <tr>\n      <th>26301</th>\n      <td>2019-01-01</td>\n      <td>Finland</td>\n      <td>KaggleRama</td>\n      <td>Kaggle Mug</td>\n    </tr>\n    <tr>\n      <th>26302</th>\n      <td>2019-01-01</td>\n      <td>Finland</td>\n      <td>KaggleRama</td>\n      <td>Kaggle Hat</td>\n    </tr>\n    <tr>\n      <th>...</th>\n      <td>...</td>\n      <td>...</td>\n      <td>...</td>\n      <td>...</td>\n    </tr>\n    <tr>\n      <th>32863</th>\n      <td>2019-12-31</td>\n      <td>Sweden</td>\n      <td>KaggleMart</td>\n      <td>Kaggle Hat</td>\n    </tr>\n    <tr>\n      <th>32864</th>\n      <td>2019-12-31</td>\n      <td>Sweden</td>\n      <td>KaggleMart</td>\n      <td>Kaggle Sticker</td>\n    </tr>\n    <tr>\n      <th>32865</th>\n      <td>2019-12-31</td>\n      <td>Sweden</td>\n      <td>KaggleRama</td>\n      <td>Kaggle Mug</td>\n    </tr>\n    <tr>\n      <th>32866</th>\n      <td>2019-12-31</td>\n      <td>Sweden</td>\n      <td>KaggleRama</td>\n      <td>Kaggle Hat</td>\n    </tr>\n    <tr>\n      <th>32867</th>\n      <td>2019-12-31</td>\n      <td>Sweden</td>\n      <td>KaggleRama</td>\n      <td>Kaggle Sticker</td>\n    </tr>\n  </tbody>\n</table>\n<p>6570 rows × 4 columns</p>\n</div>"
     },
     "metadata": {},
     "output_type": "display_data"
    }
   ],
   "source": [
    "test_df = pd.read_csv(\"data/test.csv\", index_col='row_id')\n",
    "test_df['date'] = pd.to_datetime(test_df['date'], format='%Y-%m-%d')\n",
    "display(test_df)"
   ]
  },
  {
   "cell_type": "code",
   "execution_count": 9,
   "metadata": {
    "pycharm": {
     "name": "#%%\n"
    }
   },
   "outputs": [
    {
     "data": {
      "text/plain": "        date  country  store  product\nrow_id                               \n26298    101        0      0        0\n26299    101        0      0        1\n26300    101        0      0        2\n26301    101        0      1        0\n26302    101        0      1        1\n...      ...      ...    ...      ...\n32863   1231        2      0        1\n32864   1231        2      0        2\n32865   1231        2      1        0\n32866   1231        2      1        1\n32867   1231        2      1        2\n\n[6570 rows x 4 columns]",
      "text/html": "<div>\n<style scoped>\n    .dataframe tbody tr th:only-of-type {\n        vertical-align: middle;\n    }\n\n    .dataframe tbody tr th {\n        vertical-align: top;\n    }\n\n    .dataframe thead th {\n        text-align: right;\n    }\n</style>\n<table border=\"1\" class=\"dataframe\">\n  <thead>\n    <tr style=\"text-align: right;\">\n      <th></th>\n      <th>date</th>\n      <th>country</th>\n      <th>store</th>\n      <th>product</th>\n    </tr>\n    <tr>\n      <th>row_id</th>\n      <th></th>\n      <th></th>\n      <th></th>\n      <th></th>\n    </tr>\n  </thead>\n  <tbody>\n    <tr>\n      <th>26298</th>\n      <td>101</td>\n      <td>0</td>\n      <td>0</td>\n      <td>0</td>\n    </tr>\n    <tr>\n      <th>26299</th>\n      <td>101</td>\n      <td>0</td>\n      <td>0</td>\n      <td>1</td>\n    </tr>\n    <tr>\n      <th>26300</th>\n      <td>101</td>\n      <td>0</td>\n      <td>0</td>\n      <td>2</td>\n    </tr>\n    <tr>\n      <th>26301</th>\n      <td>101</td>\n      <td>0</td>\n      <td>1</td>\n      <td>0</td>\n    </tr>\n    <tr>\n      <th>26302</th>\n      <td>101</td>\n      <td>0</td>\n      <td>1</td>\n      <td>1</td>\n    </tr>\n    <tr>\n      <th>...</th>\n      <td>...</td>\n      <td>...</td>\n      <td>...</td>\n      <td>...</td>\n    </tr>\n    <tr>\n      <th>32863</th>\n      <td>1231</td>\n      <td>2</td>\n      <td>0</td>\n      <td>1</td>\n    </tr>\n    <tr>\n      <th>32864</th>\n      <td>1231</td>\n      <td>2</td>\n      <td>0</td>\n      <td>2</td>\n    </tr>\n    <tr>\n      <th>32865</th>\n      <td>1231</td>\n      <td>2</td>\n      <td>1</td>\n      <td>0</td>\n    </tr>\n    <tr>\n      <th>32866</th>\n      <td>1231</td>\n      <td>2</td>\n      <td>1</td>\n      <td>1</td>\n    </tr>\n    <tr>\n      <th>32867</th>\n      <td>1231</td>\n      <td>2</td>\n      <td>1</td>\n      <td>2</td>\n    </tr>\n  </tbody>\n</table>\n<p>6570 rows × 4 columns</p>\n</div>"
     },
     "metadata": {},
     "output_type": "display_data"
    }
   ],
   "source": [
    "test_df['date'] = test_df['date'].dt.strftime(\"%m%d\").astype(int)\n",
    "test_df.replace(to_replace=map_str_to_int(countries), inplace=True)\n",
    "test_df.replace(to_replace=map_str_to_int(stores), inplace=True)\n",
    "test_df.replace(to_replace=map_str_to_int(products), inplace=True)\n",
    "display(test_df)"
   ]
  },
  {
   "cell_type": "code",
   "execution_count": 10,
   "metadata": {
    "pycharm": {
     "name": "#%%\n"
    }
   },
   "outputs": [
    {
     "data": {
      "text/plain": "        date  country  store  product  num_sold\nrow_id                                         \n26298    101        0      0        0       248\n26299    101        0      0        1       449\n26300    101        0      0        2       127\n26301    101        0      1        0       435\n26302    101        0      1        1       778\n...      ...      ...    ...      ...       ...\n32863   1231        2      0        1       482\n32864   1231        2      0        2       196\n32865   1231        2      1        0       483\n32866   1231        2      1        1       680\n32867   1231        2      1        2       309\n\n[6570 rows x 5 columns]",
      "text/html": "<div>\n<style scoped>\n    .dataframe tbody tr th:only-of-type {\n        vertical-align: middle;\n    }\n\n    .dataframe tbody tr th {\n        vertical-align: top;\n    }\n\n    .dataframe thead th {\n        text-align: right;\n    }\n</style>\n<table border=\"1\" class=\"dataframe\">\n  <thead>\n    <tr style=\"text-align: right;\">\n      <th></th>\n      <th>date</th>\n      <th>country</th>\n      <th>store</th>\n      <th>product</th>\n      <th>num_sold</th>\n    </tr>\n    <tr>\n      <th>row_id</th>\n      <th></th>\n      <th></th>\n      <th></th>\n      <th></th>\n      <th></th>\n    </tr>\n  </thead>\n  <tbody>\n    <tr>\n      <th>26298</th>\n      <td>101</td>\n      <td>0</td>\n      <td>0</td>\n      <td>0</td>\n      <td>248</td>\n    </tr>\n    <tr>\n      <th>26299</th>\n      <td>101</td>\n      <td>0</td>\n      <td>0</td>\n      <td>1</td>\n      <td>449</td>\n    </tr>\n    <tr>\n      <th>26300</th>\n      <td>101</td>\n      <td>0</td>\n      <td>0</td>\n      <td>2</td>\n      <td>127</td>\n    </tr>\n    <tr>\n      <th>26301</th>\n      <td>101</td>\n      <td>0</td>\n      <td>1</td>\n      <td>0</td>\n      <td>435</td>\n    </tr>\n    <tr>\n      <th>26302</th>\n      <td>101</td>\n      <td>0</td>\n      <td>1</td>\n      <td>1</td>\n      <td>778</td>\n    </tr>\n    <tr>\n      <th>...</th>\n      <td>...</td>\n      <td>...</td>\n      <td>...</td>\n      <td>...</td>\n      <td>...</td>\n    </tr>\n    <tr>\n      <th>32863</th>\n      <td>1231</td>\n      <td>2</td>\n      <td>0</td>\n      <td>1</td>\n      <td>482</td>\n    </tr>\n    <tr>\n      <th>32864</th>\n      <td>1231</td>\n      <td>2</td>\n      <td>0</td>\n      <td>2</td>\n      <td>196</td>\n    </tr>\n    <tr>\n      <th>32865</th>\n      <td>1231</td>\n      <td>2</td>\n      <td>1</td>\n      <td>0</td>\n      <td>483</td>\n    </tr>\n    <tr>\n      <th>32866</th>\n      <td>1231</td>\n      <td>2</td>\n      <td>1</td>\n      <td>1</td>\n      <td>680</td>\n    </tr>\n    <tr>\n      <th>32867</th>\n      <td>1231</td>\n      <td>2</td>\n      <td>1</td>\n      <td>2</td>\n      <td>309</td>\n    </tr>\n  </tbody>\n</table>\n<p>6570 rows × 5 columns</p>\n</div>"
     },
     "metadata": {},
     "output_type": "display_data"
    }
   ],
   "source": [
    "test_data = test_df.to_numpy()\n",
    "predictions = np.round(mlp_regressor.predict(test_data))\n",
    "test_df['num_sold'] = np.int64(predictions)\n",
    "display(test_df)"
   ]
  },
  {
   "cell_type": "code",
   "execution_count": 11,
   "metadata": {
    "pycharm": {
     "name": "#%%\n"
    }
   },
   "outputs": [],
   "source": [
    "test_df['num_sold'].to_csv('predictions.csv')"
   ]
  }
 ],
 "metadata": {
  "kernelspec": {
   "display_name": "Python 3 (ipykernel)",
   "language": "python",
   "name": "python3"
  },
  "language_info": {
   "codemirror_mode": {
    "name": "ipython",
    "version": 3
   },
   "file_extension": ".py",
   "mimetype": "text/x-python",
   "name": "python",
   "nbconvert_exporter": "python",
   "pygments_lexer": "ipython3",
   "version": "3.10.1"
  }
 },
 "nbformat": 4,
 "nbformat_minor": 1
}