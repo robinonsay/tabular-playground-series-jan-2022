{
 "cells": [
  {
   "cell_type": "markdown",
   "source": [
    "# Tabular Playground Series (January 2022)\n",
    "## Import Data and Gather Insights"
   ],
   "metadata": {
    "collapsed": false,
    "pycharm": {
     "name": "#%% md\n"
    }
   }
  },
  {
   "cell_type": "code",
   "execution_count": 1,
   "outputs": [
    {
     "data": {
      "text/plain": "             date  country       store         product  num_sold\nrow_id                                                          \n0      2015-01-01  Finland  KaggleMart      Kaggle Mug       329\n1      2015-01-01  Finland  KaggleMart      Kaggle Hat       520\n2      2015-01-01  Finland  KaggleMart  Kaggle Sticker       146\n3      2015-01-01  Finland  KaggleRama      Kaggle Mug       572\n4      2015-01-01  Finland  KaggleRama      Kaggle Hat       911",
      "text/html": "<div>\n<style scoped>\n    .dataframe tbody tr th:only-of-type {\n        vertical-align: middle;\n    }\n\n    .dataframe tbody tr th {\n        vertical-align: top;\n    }\n\n    .dataframe thead th {\n        text-align: right;\n    }\n</style>\n<table border=\"1\" class=\"dataframe\">\n  <thead>\n    <tr style=\"text-align: right;\">\n      <th></th>\n      <th>date</th>\n      <th>country</th>\n      <th>store</th>\n      <th>product</th>\n      <th>num_sold</th>\n    </tr>\n    <tr>\n      <th>row_id</th>\n      <th></th>\n      <th></th>\n      <th></th>\n      <th></th>\n      <th></th>\n    </tr>\n  </thead>\n  <tbody>\n    <tr>\n      <th>0</th>\n      <td>2015-01-01</td>\n      <td>Finland</td>\n      <td>KaggleMart</td>\n      <td>Kaggle Mug</td>\n      <td>329</td>\n    </tr>\n    <tr>\n      <th>1</th>\n      <td>2015-01-01</td>\n      <td>Finland</td>\n      <td>KaggleMart</td>\n      <td>Kaggle Hat</td>\n      <td>520</td>\n    </tr>\n    <tr>\n      <th>2</th>\n      <td>2015-01-01</td>\n      <td>Finland</td>\n      <td>KaggleMart</td>\n      <td>Kaggle Sticker</td>\n      <td>146</td>\n    </tr>\n    <tr>\n      <th>3</th>\n      <td>2015-01-01</td>\n      <td>Finland</td>\n      <td>KaggleRama</td>\n      <td>Kaggle Mug</td>\n      <td>572</td>\n    </tr>\n    <tr>\n      <th>4</th>\n      <td>2015-01-01</td>\n      <td>Finland</td>\n      <td>KaggleRama</td>\n      <td>Kaggle Hat</td>\n      <td>911</td>\n    </tr>\n  </tbody>\n</table>\n</div>"
     },
     "execution_count": 1,
     "metadata": {},
     "output_type": "execute_result"
    }
   ],
   "source": [
    "from typing import Dict\n",
    "\n",
    "import numpy as np\n",
    "import pandas as pd\n",
    "from sklearn.neural_network import MLPRegressor\n",
    "\n",
    "training_df = pd.read_csv(\"data/train.csv\", index_col='row_id')\n",
    "training_df['date'] = pd.to_datetime(training_df['date'], format='%Y-%m-%d')\n",
    "training_df.head()"
   ],
   "metadata": {
    "collapsed": false,
    "pycharm": {
     "name": "#%%\n"
    }
   }
  },
  {
   "cell_type": "code",
   "execution_count": 2,
   "outputs": [
    {
     "name": "stdout",
     "output_type": "stream",
     "text": [
      "<class 'pandas.core.frame.DataFrame'>\n",
      "Int64Index: 26298 entries, 0 to 26297\n",
      "Data columns (total 5 columns):\n",
      " #   Column    Non-Null Count  Dtype         \n",
      "---  ------    --------------  -----         \n",
      " 0   date      26298 non-null  datetime64[ns]\n",
      " 1   country   26298 non-null  object        \n",
      " 2   store     26298 non-null  object        \n",
      " 3   product   26298 non-null  object        \n",
      " 4   num_sold  26298 non-null  int64         \n",
      "dtypes: datetime64[ns](1), int64(1), object(3)\n",
      "memory usage: 1.2+ MB\n"
     ]
    }
   ],
   "source": [
    "training_df.info()"
   ],
   "metadata": {
    "collapsed": false,
    "pycharm": {
     "name": "#%%\n"
    }
   }
  },
  {
   "cell_type": "code",
   "execution_count": 3,
   "outputs": [],
   "source": [
    "training_df['date'] = training_df['date'].dt.strftime(\"%m%d\").astype(int)\n",
    "countries = training_df.drop_duplicates(subset='country')['country']\n",
    "stores = training_df.drop_duplicates(subset='store')['store']\n",
    "products = training_df.drop_duplicates(subset='product')['product']"
   ],
   "metadata": {
    "collapsed": false,
    "pycharm": {
     "name": "#%%\n"
    }
   }
  },
  {
   "cell_type": "code",
   "execution_count": 4,
   "outputs": [],
   "source": [
    "def map_str_to_int(series: pd.Series) -> Dict:\n",
    "    i = 0\n",
    "    _map = {}\n",
    "    for item in series:\n",
    "        _map[item] = i\n",
    "        i += 1\n",
    "    return _map"
   ],
   "metadata": {
    "collapsed": false,
    "pycharm": {
     "name": "#%%\n"
    }
   }
  },
  {
   "cell_type": "code",
   "execution_count": 5,
   "outputs": [
    {
     "data": {
      "text/plain": "        date  country  store  product  num_sold\nrow_id                                         \n0        101        0      0        0       329\n1        101        0      0        1       520\n2        101        0      0        2       146\n3        101        0      1        0       572\n4        101        0      1        1       911",
      "text/html": "<div>\n<style scoped>\n    .dataframe tbody tr th:only-of-type {\n        vertical-align: middle;\n    }\n\n    .dataframe tbody tr th {\n        vertical-align: top;\n    }\n\n    .dataframe thead th {\n        text-align: right;\n    }\n</style>\n<table border=\"1\" class=\"dataframe\">\n  <thead>\n    <tr style=\"text-align: right;\">\n      <th></th>\n      <th>date</th>\n      <th>country</th>\n      <th>store</th>\n      <th>product</th>\n      <th>num_sold</th>\n    </tr>\n    <tr>\n      <th>row_id</th>\n      <th></th>\n      <th></th>\n      <th></th>\n      <th></th>\n      <th></th>\n    </tr>\n  </thead>\n  <tbody>\n    <tr>\n      <th>0</th>\n      <td>101</td>\n      <td>0</td>\n      <td>0</td>\n      <td>0</td>\n      <td>329</td>\n    </tr>\n    <tr>\n      <th>1</th>\n      <td>101</td>\n      <td>0</td>\n      <td>0</td>\n      <td>1</td>\n      <td>520</td>\n    </tr>\n    <tr>\n      <th>2</th>\n      <td>101</td>\n      <td>0</td>\n      <td>0</td>\n      <td>2</td>\n      <td>146</td>\n    </tr>\n    <tr>\n      <th>3</th>\n      <td>101</td>\n      <td>0</td>\n      <td>1</td>\n      <td>0</td>\n      <td>572</td>\n    </tr>\n    <tr>\n      <th>4</th>\n      <td>101</td>\n      <td>0</td>\n      <td>1</td>\n      <td>1</td>\n      <td>911</td>\n    </tr>\n  </tbody>\n</table>\n</div>"
     },
     "execution_count": 5,
     "metadata": {},
     "output_type": "execute_result"
    }
   ],
   "source": [
    "training_df.replace(to_replace=map_str_to_int(countries), inplace=True)\n",
    "training_df.replace(to_replace=map_str_to_int(stores), inplace=True)\n",
    "training_df.replace(to_replace=map_str_to_int(products), inplace=True)\n",
    "training_df.head()"
   ],
   "metadata": {
    "collapsed": false,
    "pycharm": {
     "name": "#%%\n"
    }
   }
  },
  {
   "cell_type": "markdown",
   "source": [
    "## Train MLP Regression Model"
   ],
   "metadata": {
    "collapsed": false,
    "pycharm": {
     "name": "#%% md\n"
    }
   }
  },
  {
   "cell_type": "code",
   "execution_count": 6,
   "outputs": [],
   "source": [
    "training_data = training_df[['date', 'country', 'store', 'product']].to_numpy()\n",
    "target_values = training_df[['num_sold']].to_numpy().ravel()"
   ],
   "metadata": {
    "collapsed": false,
    "pycharm": {
     "name": "#%%\n"
    }
   }
  },
  {
   "cell_type": "code",
   "execution_count": 7,
   "outputs": [],
   "source": [
    "mlp_regressor = MLPRegressor().fit(training_data, target_values)"
   ],
   "metadata": {
    "collapsed": false,
    "pycharm": {
     "name": "#%%\n"
    }
   }
  },
  {
   "cell_type": "markdown",
   "source": [
    "## Testing MLP Regressor Model"
   ],
   "metadata": {
    "collapsed": false,
    "pycharm": {
     "name": "#%% md\n"
    }
   }
  },
  {
   "cell_type": "code",
   "execution_count": 8,
   "outputs": [
    {
     "data": {
      "text/plain": "             date  country       store         product\nrow_id                                                \n26298  2019-01-01  Finland  KaggleMart      Kaggle Mug\n26299  2019-01-01  Finland  KaggleMart      Kaggle Hat\n26300  2019-01-01  Finland  KaggleMart  Kaggle Sticker\n26301  2019-01-01  Finland  KaggleRama      Kaggle Mug\n26302  2019-01-01  Finland  KaggleRama      Kaggle Hat",
      "text/html": "<div>\n<style scoped>\n    .dataframe tbody tr th:only-of-type {\n        vertical-align: middle;\n    }\n\n    .dataframe tbody tr th {\n        vertical-align: top;\n    }\n\n    .dataframe thead th {\n        text-align: right;\n    }\n</style>\n<table border=\"1\" class=\"dataframe\">\n  <thead>\n    <tr style=\"text-align: right;\">\n      <th></th>\n      <th>date</th>\n      <th>country</th>\n      <th>store</th>\n      <th>product</th>\n    </tr>\n    <tr>\n      <th>row_id</th>\n      <th></th>\n      <th></th>\n      <th></th>\n      <th></th>\n    </tr>\n  </thead>\n  <tbody>\n    <tr>\n      <th>26298</th>\n      <td>2019-01-01</td>\n      <td>Finland</td>\n      <td>KaggleMart</td>\n      <td>Kaggle Mug</td>\n    </tr>\n    <tr>\n      <th>26299</th>\n      <td>2019-01-01</td>\n      <td>Finland</td>\n      <td>KaggleMart</td>\n      <td>Kaggle Hat</td>\n    </tr>\n    <tr>\n      <th>26300</th>\n      <td>2019-01-01</td>\n      <td>Finland</td>\n      <td>KaggleMart</td>\n      <td>Kaggle Sticker</td>\n    </tr>\n    <tr>\n      <th>26301</th>\n      <td>2019-01-01</td>\n      <td>Finland</td>\n      <td>KaggleRama</td>\n      <td>Kaggle Mug</td>\n    </tr>\n    <tr>\n      <th>26302</th>\n      <td>2019-01-01</td>\n      <td>Finland</td>\n      <td>KaggleRama</td>\n      <td>Kaggle Hat</td>\n    </tr>\n  </tbody>\n</table>\n</div>"
     },
     "execution_count": 8,
     "metadata": {},
     "output_type": "execute_result"
    }
   ],
   "source": [
    "test_df = pd.read_csv(\"data/test.csv\", index_col='row_id')\n",
    "test_df['date'] = pd.to_datetime(test_df['date'], format='%Y-%m-%d')\n",
    "test_df.head()"
   ],
   "metadata": {
    "collapsed": false,
    "pycharm": {
     "name": "#%%\n"
    }
   }
  },
  {
   "cell_type": "code",
   "execution_count": 9,
   "outputs": [
    {
     "data": {
      "text/plain": "        date  country  store  product\nrow_id                               \n26298    101        0      0        0\n26299    101        0      0        1\n26300    101        0      0        2\n26301    101        0      1        0\n26302    101        0      1        1",
      "text/html": "<div>\n<style scoped>\n    .dataframe tbody tr th:only-of-type {\n        vertical-align: middle;\n    }\n\n    .dataframe tbody tr th {\n        vertical-align: top;\n    }\n\n    .dataframe thead th {\n        text-align: right;\n    }\n</style>\n<table border=\"1\" class=\"dataframe\">\n  <thead>\n    <tr style=\"text-align: right;\">\n      <th></th>\n      <th>date</th>\n      <th>country</th>\n      <th>store</th>\n      <th>product</th>\n    </tr>\n    <tr>\n      <th>row_id</th>\n      <th></th>\n      <th></th>\n      <th></th>\n      <th></th>\n    </tr>\n  </thead>\n  <tbody>\n    <tr>\n      <th>26298</th>\n      <td>101</td>\n      <td>0</td>\n      <td>0</td>\n      <td>0</td>\n    </tr>\n    <tr>\n      <th>26299</th>\n      <td>101</td>\n      <td>0</td>\n      <td>0</td>\n      <td>1</td>\n    </tr>\n    <tr>\n      <th>26300</th>\n      <td>101</td>\n      <td>0</td>\n      <td>0</td>\n      <td>2</td>\n    </tr>\n    <tr>\n      <th>26301</th>\n      <td>101</td>\n      <td>0</td>\n      <td>1</td>\n      <td>0</td>\n    </tr>\n    <tr>\n      <th>26302</th>\n      <td>101</td>\n      <td>0</td>\n      <td>1</td>\n      <td>1</td>\n    </tr>\n  </tbody>\n</table>\n</div>"
     },
     "execution_count": 9,
     "metadata": {},
     "output_type": "execute_result"
    }
   ],
   "source": [
    "test_df['date'] = test_df['date'].dt.strftime(\"%m%d\").astype(int)\n",
    "test_df.replace(to_replace=map_str_to_int(countries), inplace=True)\n",
    "test_df.replace(to_replace=map_str_to_int(stores), inplace=True)\n",
    "test_df.replace(to_replace=map_str_to_int(products), inplace=True)\n",
    "test_df.head()"
   ],
   "metadata": {
    "collapsed": false,
    "pycharm": {
     "name": "#%%\n"
    }
   }
  },
  {
   "cell_type": "code",
   "execution_count": 10,
   "outputs": [
    {
     "data": {
      "text/plain": "        date  country  store  product  num_sold\nrow_id                                         \n26298    101        0      0        0       366\n26299    101        0      0        1       281\n26300    101        0      0        2       195\n26301    101        0      1        0       580\n26302    101        0      1        1       494",
      "text/html": "<div>\n<style scoped>\n    .dataframe tbody tr th:only-of-type {\n        vertical-align: middle;\n    }\n\n    .dataframe tbody tr th {\n        vertical-align: top;\n    }\n\n    .dataframe thead th {\n        text-align: right;\n    }\n</style>\n<table border=\"1\" class=\"dataframe\">\n  <thead>\n    <tr style=\"text-align: right;\">\n      <th></th>\n      <th>date</th>\n      <th>country</th>\n      <th>store</th>\n      <th>product</th>\n      <th>num_sold</th>\n    </tr>\n    <tr>\n      <th>row_id</th>\n      <th></th>\n      <th></th>\n      <th></th>\n      <th></th>\n      <th></th>\n    </tr>\n  </thead>\n  <tbody>\n    <tr>\n      <th>26298</th>\n      <td>101</td>\n      <td>0</td>\n      <td>0</td>\n      <td>0</td>\n      <td>366</td>\n    </tr>\n    <tr>\n      <th>26299</th>\n      <td>101</td>\n      <td>0</td>\n      <td>0</td>\n      <td>1</td>\n      <td>281</td>\n    </tr>\n    <tr>\n      <th>26300</th>\n      <td>101</td>\n      <td>0</td>\n      <td>0</td>\n      <td>2</td>\n      <td>195</td>\n    </tr>\n    <tr>\n      <th>26301</th>\n      <td>101</td>\n      <td>0</td>\n      <td>1</td>\n      <td>0</td>\n      <td>580</td>\n    </tr>\n    <tr>\n      <th>26302</th>\n      <td>101</td>\n      <td>0</td>\n      <td>1</td>\n      <td>1</td>\n      <td>494</td>\n    </tr>\n  </tbody>\n</table>\n</div>"
     },
     "execution_count": 10,
     "metadata": {},
     "output_type": "execute_result"
    }
   ],
   "source": [
    "test_data = test_df.to_numpy()\n",
    "predictions = np.round(mlp_regressor.predict(test_data))\n",
    "test_df['num_sold'] = np.int64(predictions)\n",
    "test_df.head()"
   ],
   "metadata": {
    "collapsed": false,
    "pycharm": {
     "name": "#%%\n"
    }
   }
  },
  {
   "cell_type": "code",
   "execution_count": 11,
   "outputs": [],
   "source": [
    "test_df['num_sold'].to_csv('predictions.csv')"
   ],
   "metadata": {
    "collapsed": false,
    "pycharm": {
     "name": "#%%\n"
    }
   }
  },
  {
   "cell_type": "code",
   "execution_count": 11,
   "outputs": [],
   "source": [],
   "metadata": {
    "collapsed": false,
    "pycharm": {
     "name": "#%%\n"
    }
   }
  }
 ],
 "metadata": {
  "kernelspec": {
   "display_name": "Python 3",
   "language": "python",
   "name": "python3"
  },
  "language_info": {
   "codemirror_mode": {
    "name": "ipython",
    "version": 2
   },
   "file_extension": ".py",
   "mimetype": "text/x-python",
   "name": "python",
   "nbconvert_exporter": "python",
   "pygments_lexer": "ipython2",
   "version": "2.7.6"
  }
 },
 "nbformat": 4,
 "nbformat_minor": 0
}